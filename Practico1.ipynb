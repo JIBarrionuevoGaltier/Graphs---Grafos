{
 "cells": [
  {
   "cell_type": "markdown",
   "id": "a49e9927-f016-4660-89df-26c5800aea8b",
   "metadata": {
    "id": "a49e9927-f016-4660-89df-26c5800aea8b"
   },
   "source": [
    "# Práctico 1"
   ]
  },
  {
   "cell_type": "markdown",
   "id": "5fe2ae9e-6076-4a12-931c-5349ee7eb2d3",
   "metadata": {
    "id": "5fe2ae9e-6076-4a12-931c-5349ee7eb2d3",
    "jp-MarkdownHeadingCollapsed": true,
    "tags": []
   },
   "source": [
    "En este práctico, correspondiente a la primera mitad de la materia, trabajaremos con un dataset extraído de Twitter. La idea es emplear los conceptos de grafos vistos en clase sobre un caso real de actualidad.\n",
    "\n",
    "## Dataset\n",
    "\n",
    "El dataset consiste en un conjunto de hilos de tweets, con un total de ~150000 tweets, extraídos entre Enero y Marzo de 2021. La temática de los mismos está referida a la vacunación contra el covid-19 en Argentina.\n",
    "\n",
    "Pueden descargar el dataset del siguiente [link](https://drive.google.com/file/d/1X_qKsE8muAnom2tDX4sLlmBAO0Ikfe_G/view?usp=sharing).\n",
    "\n",
    "### Campos\n",
    "\n",
    "- **created_at:** Fecha del tweet\n",
    "- **id_str:** ID del tweet\n",
    "- **full_text:** Contenido del tweet\n",
    "- **in_reply_to_status_id:** ID del tweet inmediatamente anterior en el hilo\n",
    "- **in_reply_to_user_id:** Autor del tweet inmediatamente anterior en el hilo\n",
    "- **user.id:** Autor del tweet\n",
    "- **user_retweeters:** Lista de ID de usuarios que retweetearon el tweet\n",
    "- **sentiment:** Etiquetado manual que indica el sentimiento o intención del tweet con respecto al tweet anterior en el hilo"
   ]
  },
  {
   "cell_type": "markdown",
   "id": "8eed8c8b-8c40-4d18-b4ad-c853e1c3b7d1",
   "metadata": {
    "id": "8eed8c8b-8c40-4d18-b4ad-c853e1c3b7d1"
   },
   "source": [
    "## Configuración inicial"
   ]
  },
  {
   "cell_type": "code",
   "execution_count": 1,
   "id": "a23c83a7-0c4e-4bff-b8cb-253671e5d1d6",
   "metadata": {
    "id": "a23c83a7-0c4e-4bff-b8cb-253671e5d1d6"
   },
   "outputs": [],
   "source": [
    "import pandas as pd\n",
    "import numpy as np\n",
    "import matplotlib.pyplot as plt\n",
    "from pathlib import Path\n",
    "from pprint import pprint\n",
    "import seaborn as sns\n",
    "import statistics\n",
    "sns.set()\n",
    "sns.set_context('talk')\n",
    "\n",
    "#Para grafos\n",
    "import networkx as nx\n",
    "import igraph as ig\n",
    "from graph_tools import Graph\n",
    "from cdlib import NodeClustering, evaluation, algorithms\n",
    "\n",
    "## Descargar el csv con los datos en este directorio\n",
    "DATA_DIR = Path('./data/twitter')\n",
    "INPUT_FILE = DATA_DIR / 'vacunas.csv'\n",
    "\n",
    "## Creamos el directorio en caso de que no exista\n",
    "DATA_DIR.mkdir(parents=True, exist_ok=True)"
   ]
  },
  {
   "cell_type": "code",
   "execution_count": 2,
   "id": "aLGHzThJpEiN",
   "metadata": {
    "id": "aLGHzThJpEiN"
   },
   "outputs": [],
   "source": [
    "#import pandas as pd\n",
    "#from pathlib import Path\n",
    "#from google.colab import files\n",
    "#uploaded = files.upload()"
   ]
  },
  {
   "cell_type": "markdown",
   "id": "acf6889f-86be-4fc8-b281-a738b8d475c4",
   "metadata": {
    "id": "acf6889f-86be-4fc8-b281-a738b8d475c4"
   },
   "source": [
    "### Cargamos el dataset"
   ]
  },
  {
   "cell_type": "code",
   "execution_count": 3,
   "id": "e43cef47-be3b-47ba-9a07-9373013580ec",
   "metadata": {
    "colab": {
     "base_uri": "https://localhost:8080/",
     "height": 554
    },
    "id": "e43cef47-be3b-47ba-9a07-9373013580ec",
    "outputId": "2980682a-36be-4894-845b-42667faeea8d"
   },
   "outputs": [
    {
     "name": "stdout",
     "output_type": "stream",
     "text": [
      "(155123, 8)\n"
     ]
    },
    {
     "data": {
      "text/html": [
       "<div>\n",
       "<style scoped>\n",
       "    .dataframe tbody tr th:only-of-type {\n",
       "        vertical-align: middle;\n",
       "    }\n",
       "\n",
       "    .dataframe tbody tr th {\n",
       "        vertical-align: top;\n",
       "    }\n",
       "\n",
       "    .dataframe thead th {\n",
       "        text-align: right;\n",
       "    }\n",
       "</style>\n",
       "<table border=\"1\" class=\"dataframe\">\n",
       "  <thead>\n",
       "    <tr style=\"text-align: right;\">\n",
       "      <th></th>\n",
       "      <th>created_at</th>\n",
       "      <th>id_str</th>\n",
       "      <th>full_text</th>\n",
       "      <th>in_reply_to_status_id</th>\n",
       "      <th>in_reply_to_user_id</th>\n",
       "      <th>user.id</th>\n",
       "      <th>user_retweeters</th>\n",
       "      <th>sentiment</th>\n",
       "    </tr>\n",
       "  </thead>\n",
       "  <tbody>\n",
       "    <tr>\n",
       "      <th>0</th>\n",
       "      <td>Sat Feb 20 03:09:10 +0000 2021</td>\n",
       "      <td>1362962469749153792</td>\n",
       "      <td>Seguimos esperando el comunicado de @norabar r...</td>\n",
       "      <td>NaN</td>\n",
       "      <td>NaN</td>\n",
       "      <td>2737379453</td>\n",
       "      <td>[2258074658, 159909978, 105301854, 290671142, ...</td>\n",
       "      <td>NaN</td>\n",
       "    </tr>\n",
       "    <tr>\n",
       "      <th>1</th>\n",
       "      <td>Sat Feb 20 03:19:59 +0000 2021</td>\n",
       "      <td>1362965193509265417</td>\n",
       "      <td>@Clon_43 @norabar Nora estaba indignada porque...</td>\n",
       "      <td>1362962469749153792</td>\n",
       "      <td>2737379453</td>\n",
       "      <td>32718111</td>\n",
       "      <td>[]</td>\n",
       "      <td>NaN</td>\n",
       "    </tr>\n",
       "    <tr>\n",
       "      <th>2</th>\n",
       "      <td>Mon Feb 22 23:55:08 +0000 2021</td>\n",
       "      <td>1364000806740111363</td>\n",
       "      <td>Bueno, Alberto dijo Salud o Economía. La salud...</td>\n",
       "      <td>NaN</td>\n",
       "      <td>NaN</td>\n",
       "      <td>252168075</td>\n",
       "      <td>[1238117630696972289, 37232479, 12792246571247...</td>\n",
       "      <td>NaN</td>\n",
       "    </tr>\n",
       "    <tr>\n",
       "      <th>3</th>\n",
       "      <td>Tue Feb 23 00:09:14 +0000 2021</td>\n",
       "      <td>1364004354374696963</td>\n",
       "      <td>@spitta1969 Tuit del mes Spitta</td>\n",
       "      <td>1364000806740111363</td>\n",
       "      <td>252168075</td>\n",
       "      <td>1156346340802224128</td>\n",
       "      <td>[]</td>\n",
       "      <td>NaN</td>\n",
       "    </tr>\n",
       "    <tr>\n",
       "      <th>4</th>\n",
       "      <td>Tue Feb 23 00:00:17 +0000 2021</td>\n",
       "      <td>1364002100364128260</td>\n",
       "      <td>@spitta1969 Estas onfire</td>\n",
       "      <td>1364000806740111363</td>\n",
       "      <td>252168075</td>\n",
       "      <td>153663816</td>\n",
       "      <td>[]</td>\n",
       "      <td>NaN</td>\n",
       "    </tr>\n",
       "  </tbody>\n",
       "</table>\n",
       "</div>"
      ],
      "text/plain": [
       "                       created_at               id_str  \\\n",
       "0  Sat Feb 20 03:09:10 +0000 2021  1362962469749153792   \n",
       "1  Sat Feb 20 03:19:59 +0000 2021  1362965193509265417   \n",
       "2  Mon Feb 22 23:55:08 +0000 2021  1364000806740111363   \n",
       "3  Tue Feb 23 00:09:14 +0000 2021  1364004354374696963   \n",
       "4  Tue Feb 23 00:00:17 +0000 2021  1364002100364128260   \n",
       "\n",
       "                                           full_text in_reply_to_status_id  \\\n",
       "0  Seguimos esperando el comunicado de @norabar r...                   NaN   \n",
       "1  @Clon_43 @norabar Nora estaba indignada porque...   1362962469749153792   \n",
       "2  Bueno, Alberto dijo Salud o Economía. La salud...                   NaN   \n",
       "3                    @spitta1969 Tuit del mes Spitta   1364000806740111363   \n",
       "4                           @spitta1969 Estas onfire   1364000806740111363   \n",
       "\n",
       "  in_reply_to_user_id              user.id  \\\n",
       "0                 NaN           2737379453   \n",
       "1          2737379453             32718111   \n",
       "2                 NaN            252168075   \n",
       "3           252168075  1156346340802224128   \n",
       "4           252168075            153663816   \n",
       "\n",
       "                                     user_retweeters sentiment  \n",
       "0  [2258074658, 159909978, 105301854, 290671142, ...       NaN  \n",
       "1                                                 []       NaN  \n",
       "2  [1238117630696972289, 37232479, 12792246571247...       NaN  \n",
       "3                                                 []       NaN  \n",
       "4                                                 []       NaN  "
      ]
     },
     "execution_count": 3,
     "metadata": {},
     "output_type": "execute_result"
    }
   ],
   "source": [
    "dtypes = {\n",
    "    'id_str': str,\n",
    "    'full_text': str,\n",
    "    'in_reply_to_status_id': str,\n",
    "    'in_reply_to_user_id': str,\n",
    "    'user.id': str\n",
    "}\n",
    "#df = pd.read_csv(\"vacunas.csv\", dtype=dtypes).dropna(subset=['user_retweeters'])\n",
    "df = pd.read_csv(INPUT_FILE, dtype=dtypes).dropna(subset=['user_retweeters'])\n",
    "df['user_retweeters'] = df['user_retweeters'].apply(lambda x: [str(elem) for elem in eval(x)])\n",
    "print(df.shape)\n",
    "df.head()"
   ]
  },
  {
   "cell_type": "markdown",
   "id": "bd778ff2-c52b-4541-83bb-ab515e233fb3",
   "metadata": {
    "id": "bd778ff2-c52b-4541-83bb-ab515e233fb3",
    "tags": []
   },
   "source": [
    "### Observamos algunos ejemplos"
   ]
  },
  {
   "cell_type": "code",
   "execution_count": 4,
   "id": "c0c71a87-7917-4ed9-859c-4eb7c88e1dd4",
   "metadata": {
    "id": "c0c71a87-7917-4ed9-859c-4eb7c88e1dd4",
    "outputId": "20e3f719-d0b1-4537-e957-b2b9f81d7248"
   },
   "outputs": [
    {
     "name": "stdout",
     "output_type": "stream",
     "text": [
      "<class 'pandas.core.frame.DataFrame'>\n",
      "Int64Index: 155123 entries, 0 to 163178\n",
      "Data columns (total 8 columns):\n",
      " #   Column                 Non-Null Count   Dtype \n",
      "---  ------                 --------------   ----- \n",
      " 0   created_at             155123 non-null  object\n",
      " 1   id_str                 155123 non-null  object\n",
      " 2   full_text              155123 non-null  object\n",
      " 3   in_reply_to_status_id  151834 non-null  object\n",
      " 4   in_reply_to_user_id    151949 non-null  object\n",
      " 5   user.id                155123 non-null  object\n",
      " 6   user_retweeters        155123 non-null  object\n",
      " 7   sentiment              1029 non-null    object\n",
      "dtypes: object(8)\n",
      "memory usage: 10.7+ MB\n"
     ]
    }
   ],
   "source": [
    "df.info()"
   ]
  },
  {
   "cell_type": "code",
   "execution_count": 5,
   "id": "f7299e7b-6a15-4b3a-847b-06e1434b5afe",
   "metadata": {
    "id": "f7299e7b-6a15-4b3a-847b-06e1434b5afe",
    "outputId": "a141b13c-1602-48ed-906b-35439e2a8e21"
   },
   "outputs": [
    {
     "data": {
      "text/plain": [
       "Oposición         356\n",
       "Apoyo             311\n",
       "Comentario        244\n",
       "Pregunta           84\n",
       "No relacionado     34\n",
       "Name: sentiment, dtype: int64"
      ]
     },
     "execution_count": 5,
     "metadata": {},
     "output_type": "execute_result"
    }
   ],
   "source": [
    "df.sentiment.value_counts()"
   ]
  },
  {
   "cell_type": "code",
   "execution_count": 6,
   "id": "04ae4b42-b56b-414a-9c94-f381696f2028",
   "metadata": {
    "id": "04ae4b42-b56b-414a-9c94-f381696f2028",
    "outputId": "54db3df9-30cf-420d-86a4-fdff6751c210"
   },
   "outputs": [
    {
     "data": {
      "text/plain": [
       "3289"
      ]
     },
     "execution_count": 6,
     "metadata": {},
     "output_type": "execute_result"
    }
   ],
   "source": [
    "df.in_reply_to_status_id.isna().sum()"
   ]
  },
  {
   "cell_type": "code",
   "execution_count": 7,
   "id": "626fb5fa-2875-47c0-9e30-cb1a456a1c13",
   "metadata": {
    "id": "626fb5fa-2875-47c0-9e30-cb1a456a1c13",
    "outputId": "1b8025ae-88d6-49d0-ef12-5c36160f4c8b"
   },
   "outputs": [
    {
     "name": "stdout",
     "output_type": "stream",
     "text": [
      "Texto: Seguimos esperando el comunicado de @norabar repudiando la situación respecto del gobierno y el tema vacunas. Seamos pacientes que con esto de la pandemia anda con mucho \"laburo\".\n",
      "Retweets: 9\n"
     ]
    }
   ],
   "source": [
    "idx = 0\n",
    "print('Texto:', df.full_text.values[idx])\n",
    "print('Retweets:', len(df.user_retweeters.values[idx]))"
   ]
  },
  {
   "cell_type": "code",
   "execution_count": 8,
   "id": "f6ca9ab4-d966-4613-8d06-b139b30255b8",
   "metadata": {
    "id": "f6ca9ab4-d966-4613-8d06-b139b30255b8",
    "outputId": "7478e431-0b20-4e3b-eb57-19d07f7cb22b"
   },
   "outputs": [
    {
     "name": "stdout",
     "output_type": "stream",
     "text": [
      "Text: Todo lo que hay que entender sobre la decisión –o no– de poner más vacunas en más brazos (por ejemplo, usar las 1º dosis en muchos y si es necesario retrasar la 2º) está en esta excelente nota de Nora Bär. https://t.co/A0I03DyxgO\n",
      "Retweets: 48\n"
     ]
    }
   ],
   "source": [
    "idx = 376\n",
    "print('Text:', df.full_text.values[idx])\n",
    "print('Retweets:', len(df.user_retweeters.values[idx]))"
   ]
  },
  {
   "cell_type": "markdown",
   "id": "1d3911d7-cc49-4d84-95b6-4f096f5f56c3",
   "metadata": {
    "id": "1d3911d7-cc49-4d84-95b6-4f096f5f56c3"
   },
   "source": [
    "### Calculamos la cantidad de hilos"
   ]
  },
  {
   "cell_type": "code",
   "execution_count": 9,
   "id": "59b6c11f-5766-45e4-a264-f3733df8694d",
   "metadata": {
    "id": "59b6c11f-5766-45e4-a264-f3733df8694d",
    "outputId": "23f8f7b7-d539-4b15-9c76-73077a056199"
   },
   "outputs": [
    {
     "data": {
      "text/plain": [
       "(3174, 8)"
      ]
     },
     "execution_count": 9,
     "metadata": {},
     "output_type": "execute_result"
    }
   ],
   "source": [
    "roots = df[df['in_reply_to_user_id'].isna()]\n",
    "roots.shape"
   ]
  },
  {
   "cell_type": "markdown",
   "id": "89495215-e5cb-496e-80ab-3d5a63dfaa2d",
   "metadata": {
    "id": "89495215-e5cb-496e-80ab-3d5a63dfaa2d"
   },
   "source": [
    "---"
   ]
  },
  {
   "cell_type": "markdown",
   "id": "8cba2256-2748-461f-93eb-e3195ac23fcc",
   "metadata": {
    "id": "8cba2256-2748-461f-93eb-e3195ac23fcc",
    "tags": []
   },
   "source": [
    "## Actividades\n",
    "\n",
    "### **1. Construcción del grafo** \n",
    "\n",
    "Construir el **grafo de retweets**, definido de la siguiente manera:\n",
    "\n",
    "- Tipo de grafo: Dirigido\n",
    "- Nodos: ID de los usuarios\n",
    "- Enlaces: (Usuario A) ---> (Usuario B) si B retweeteó algún tweet de A\n",
    "\n",
    "Con estos datos, el grafo debería tener alrededor de 40000 nodos y 90000 enlaces.\n",
    "\n",
    "Considerar la versión no dirigida del grafo y estudiar su conectividad. Si existe una única \"componente gigante\", realizar el resto de las actividades sobre ella, en lugar de sobre el grafo completo.\n",
    "\n",
    "Calcular las siguientes métricas globales del grafo:\n",
    "\n",
    "- Grado medio\n",
    "- Asortatividad\n",
    "- Transitividad\n",
    "- Coeficiente de clustering de Watts-Strogatz\n",
    "\n",
    "**Opcional:** Comparar las métricas calculadas anteriormente con las de un grafo aleatorio con la misma distribución de grado. Pueden utilizar para ello este [método](https://networkx.org/documentation/stable/reference/generated/networkx.generators.degree_seq.configuration_model.html?highlight=configuration#networkx.generators.degree_seq.configuration_model). Con esto en mente, comentar si los valores obtenidos anteriormente difieren significativamente del caso aleatorio."
   ]
  },
  {
   "cell_type": "markdown",
   "id": "0bbd1f2b-9c89-4437-94bb-957341977d97",
   "metadata": {
    "id": "0bbd1f2b-9c89-4437-94bb-957341977d97"
   },
   "source": [
    "#### Componentes del Grafo"
   ]
  },
  {
   "cell_type": "code",
   "execution_count": 10,
   "id": "0c0f4f3c-cef8-46cc-b82e-0c0471da2823",
   "metadata": {
    "id": "0c0f4f3c-cef8-46cc-b82e-0c0471da2823",
    "outputId": "7b492e2f-1212-4983-eea8-b1d61b937936"
   },
   "outputs": [
    {
     "data": {
      "text/plain": [
       "array(['created_at', 'id_str', 'full_text', 'in_reply_to_status_id',\n",
       "       'in_reply_to_user_id', 'user.id', 'user_retweeters', 'sentiment'],\n",
       "      dtype=object)"
      ]
     },
     "execution_count": 10,
     "metadata": {},
     "output_type": "execute_result"
    }
   ],
   "source": [
    "df.columns.values"
   ]
  },
  {
   "cell_type": "code",
   "execution_count": 11,
   "id": "de56d7c6-e28a-4b95-b5f8-71ff646f779b",
   "metadata": {
    "id": "de56d7c6-e28a-4b95-b5f8-71ff646f779b",
    "outputId": "052bd9dc-f8d2-4f42-a95d-496daa61bb8b"
   },
   "outputs": [
    {
     "data": {
      "text/plain": [
       "42237"
      ]
     },
     "execution_count": 11,
     "metadata": {},
     "output_type": "execute_result"
    }
   ],
   "source": [
    "df['user.id'].nunique()"
   ]
  },
  {
   "cell_type": "markdown",
   "id": "1970b933-b5de-4f31-be64-fdf2cc8847d4",
   "metadata": {
    "id": "1970b933-b5de-4f31-be64-fdf2cc8847d4"
   },
   "source": [
    "#### Grafo Prueba"
   ]
  },
  {
   "cell_type": "code",
   "execution_count": 12,
   "id": "6afc78cd-597e-41b8-987b-bfe254e781c4",
   "metadata": {
    "id": "6afc78cd-597e-41b8-987b-bfe254e781c4",
    "outputId": "5b7fda04-2dd8-4368-b527-c7e8e2122c18"
   },
   "outputs": [
    {
     "name": "stdout",
     "output_type": "stream",
     "text": [
      "Cantidad de nodos: 60\n",
      "Cantidad de aristas: 57\n"
     ]
    }
   ],
   "source": [
    "# Creación de un grafo dirigido (de prueba) con la librería NetworkX\n",
    "G_20 = nx.DiGraph()\n",
    "\n",
    "#\n",
    "nodes = df[df[\"user_retweeters\"].str.len() != 0]['user.id'][:3].unique()\n",
    "edges = []\n",
    "for index, row in df[df[\"user_retweeters\"].str.len() != 0][:3].iterrows():\n",
    "    largo = len(row['user_retweeters'])\n",
    "    if largo > 0:\n",
    "        for i in row['user_retweeters']:\n",
    "            edges.append((row['user.id'], i))\n",
    "edges = set(edges)\n",
    "\n",
    "G_20.add_nodes_from(nodes)\n",
    "G_20.add_edges_from(edges)\n",
    "\n",
    "print(f'Cantidad de nodos: {len(G_20.nodes)}')\n",
    "print(f'Cantidad de aristas: {len(G_20.edges)}')"
   ]
  },
  {
   "cell_type": "markdown",
   "id": "f9d20187-01f6-4a32-844b-72815feb97d3",
   "metadata": {
    "id": "f9d20187-01f6-4a32-844b-72815feb97d3"
   },
   "source": [
    "##### Impresión del Grafo de Prueba"
   ]
  },
  {
   "cell_type": "code",
   "execution_count": 13,
   "id": "063c0bb1-d6ee-4978-b24a-a54e1a7d443a",
   "metadata": {
    "id": "063c0bb1-d6ee-4978-b24a-a54e1a7d443a",
    "outputId": "d8ee6419-8837-407c-c9ac-7363fe793d6c"
   },
   "outputs": [
    {
     "data": {
      "image/png": "[encoded data removed]",
      "text/plain": [
       "<Figure size 1440x864 with 1 Axes>"
      ]
     },
     "metadata": {},
     "output_type": "display_data"
    }
   ],
   "source": [
    "draw_params = dict(\n",
    "    with_labels=True,               ## Incluye los nombres de los nodos\n",
    "    node_color='C1',                ## Elijo el color 1 de la paleta de colores\n",
    "    edge_color='gray',\n",
    "    width=2,                        ## Espesor de los enlaces\n",
    "    font_size=14,\n",
    "    label='',\n",
    "    pos=nx.kamada_kawai_layout(G_20)   ## Algoritmo para embeber el grafo en el plano\n",
    ")\n",
    "\n",
    "fig, ax = plt.subplots(figsize=(20,12))\n",
    "ax.set_title('Grafo Dirigido', fontsize=16)\n",
    "nx.draw(\n",
    "    G_20, \n",
    "    ax=ax,\n",
    "    **draw_params\n",
    ")"
   ]
  },
  {
   "cell_type": "markdown",
   "id": "79db4a55-4cf9-4ba4-8829-31ae88c51b85",
   "metadata": {
    "id": "79db4a55-4cf9-4ba4-8829-31ae88c51b85"
   },
   "source": [
    "#### Grafo Dirigido"
   ]
  },
  {
   "cell_type": "code",
   "execution_count": 14,
   "id": "bf800514-6f40-43bb-9d4b-756f62527143",
   "metadata": {
    "id": "bf800514-6f40-43bb-9d4b-756f62527143",
    "outputId": "4f7b9022-c58f-4e5f-ced1-3bd9024ec816"
   },
   "outputs": [
    {
     "name": "stdout",
     "output_type": "stream",
     "text": [
      "DiGraph with 65934 nodes and 93692 edges\n"
     ]
    }
   ],
   "source": [
    "# Creación de un grafo dirigido con la librería NetworkX\n",
    "Gdir = nx.DiGraph()\n",
    "\n",
    "#\n",
    "nodes = df['user.id'].unique()\n",
    "edges = []\n",
    "for index, row in df.iterrows():\n",
    "    largo = len(row['user_retweeters'])\n",
    "    if largo > 0:\n",
    "        for i in row['user_retweeters']:\n",
    "            edges.append((row['user.id'], i))\n",
    "edges = set(edges)\n",
    "\n",
    "Gdir.add_nodes_from(nodes)\n",
    "Gdir.add_edges_from(edges)\n",
    "\n",
    "print(nx.info(Gdir))"
   ]
  },
  {
   "cell_type": "code",
   "execution_count": 15,
   "id": "987e8e19-5234-4b6b-9817-ee2b73d220a7",
   "metadata": {
    "id": "987e8e19-5234-4b6b-9817-ee2b73d220a7",
    "outputId": "56b9d345-5e36-498b-bc93-4650778b7db7"
   },
   "outputs": [
    {
     "data": {
      "text/plain": [
       "[['252168075', 8366],\n",
       " ['130979339', 5558],\n",
       " ['73102744', 5367],\n",
       " ['367933714', 3852],\n",
       " ['593189095', 3835],\n",
       " ['2687724840', 3176],\n",
       " ['931564592328781824', 3136],\n",
       " ['144929758', 2659],\n",
       " ['312708081', 1633],\n",
       " ['1077176953', 590]]"
      ]
     },
     "execution_count": 15,
     "metadata": {},
     "output_type": "execute_result"
    }
   ],
   "source": [
    "list_degrees_Gdir = sorted([[node, val] for (node, val) in Gdir.degree()], key=lambda x:x[1], reverse = True)\n",
    "list_degrees_Gdir[:10]"
   ]
  },
  {
   "cell_type": "markdown",
   "id": "f9d19abf-5e61-48ba-8b1c-127843416065",
   "metadata": {
    "id": "f9d19abf-5e61-48ba-8b1c-127843416065"
   },
   "source": [
    "Exportar Grafo"
   ]
  },
  {
   "cell_type": "code",
   "execution_count": 16,
   "id": "6ca748dd-a81e-4d10-a82c-dd697c088666",
   "metadata": {
    "id": "6ca748dd-a81e-4d10-a82c-dd697c088666"
   },
   "outputs": [],
   "source": [
    "nx.write_graphml(Gdir,'graph.graphml') # Export NX graph to file"
   ]
  },
  {
   "cell_type": "markdown",
   "id": "0b62ce32-2e14-4816-b69f-ec9e17f32058",
   "metadata": {
    "id": "0b62ce32-2e14-4816-b69f-ec9e17f32058"
   },
   "source": [
    "#### Grafo No Dirigido"
   ]
  },
  {
   "cell_type": "code",
   "execution_count": 17,
   "id": "942ac38b-cc90-48da-bb31-ed5c19e2c44a",
   "metadata": {
    "id": "942ac38b-cc90-48da-bb31-ed5c19e2c44a",
    "outputId": "378675fb-6d2e-4605-b71d-5d5bfa1c05b6"
   },
   "outputs": [
    {
     "name": "stdout",
     "output_type": "stream",
     "text": [
      "Graph with 65934 nodes and 93404 edges\n"
     ]
    }
   ],
   "source": [
    "# Creación de un grafo no dirigido con la librería NetworkX\n",
    "G = nx.Graph()\n",
    "\n",
    "#\n",
    "nodes = df['user.id'].unique()\n",
    "edges = []\n",
    "for index, row in df.iterrows():\n",
    "    largo = len(row['user_retweeters'])\n",
    "    if largo > 0:\n",
    "        for i in row['user_retweeters']:\n",
    "            edges.append((row['user.id'], i))\n",
    "edges = set(edges)\n",
    "\n",
    "G.add_nodes_from(nodes)\n",
    "G.add_edges_from(edges)\n",
    "\n",
    "print(nx.info(G))"
   ]
  },
  {
   "cell_type": "markdown",
   "id": "9233d21d-5f12-4cb5-b99c-5413548b11cf",
   "metadata": {
    "id": "9233d21d-5f12-4cb5-b99c-5413548b11cf",
    "tags": []
   },
   "source": [
    "#### Analisis de \"componente gigante\""
   ]
  },
  {
   "cell_type": "markdown",
   "id": "a78a1442-6ed5-4430-b3be-011f4f24aa37",
   "metadata": {},
   "source": [
    "Intentamos buscar la componente gigante de un grafo dirigido, pero no obtuvimos buenos resultados. Por ende, solo lo hicimos con el grafo no dirigido."
   ]
  },
  {
   "cell_type": "code",
   "execution_count": 18,
   "id": "ca9fb282-9b7a-4d58-8164-63a64ae9af84",
   "metadata": {},
   "outputs": [
    {
     "name": "stdout",
     "output_type": "stream",
     "text": [
      "Graph with 39800 nodes and 93404 edges\n"
     ]
    }
   ],
   "source": [
    "componentGDir = max(nx.connected_components(G), key=len)\n",
    "\n",
    "#Creamos un grafo reducido\n",
    "GDir_MaxC = nx.Graph()\n",
    "GDir_MaxC.add_nodes_from(componentGDir)\n",
    "GDir_MaxC.add_edges_from(edges)\n",
    "\n",
    "print(nx.info(GDir_MaxC))"
   ]
  },
  {
   "cell_type": "code",
   "execution_count": 19,
   "id": "50df9c86-7883-4078-ad7c-d50fe4a14697",
   "metadata": {
    "id": "50df9c86-7883-4078-ad7c-d50fe4a14697",
    "outputId": "c21ef6b3-c5fc-4bcd-f377-e62655698746"
   },
   "outputs": [
    {
     "data": {
      "text/plain": [
       "[['252168075', 8207],\n",
       " ['130979339', 5553],\n",
       " ['73102744', 5362],\n",
       " ['367933714', 3849],\n",
       " ['593189095', 3834],\n",
       " ['2687724840', 3175],\n",
       " ['931564592328781824', 3136],\n",
       " ['144929758', 2657],\n",
       " ['312708081', 1630],\n",
       " ['1077176953', 589]]"
      ]
     },
     "execution_count": 19,
     "metadata": {},
     "output_type": "execute_result"
    }
   ],
   "source": [
    "list_degrees_G = sorted([[node, val] for (node, val) in GDir_MaxC.degree()], key=lambda x:x[1], reverse = True)\n",
    "list_degrees_G[:10]"
   ]
  },
  {
   "cell_type": "markdown",
   "id": "ce2b74d9-c354-4b7c-ad9b-e4f58515a455",
   "metadata": {
    "id": "ce2b74d9-c354-4b7c-ad9b-e4f58515a455"
   },
   "source": [
    "#### Grado medio"
   ]
  },
  {
   "cell_type": "code",
   "execution_count": 20,
   "id": "781520d6-2c55-44bb-8d66-5ce0be271ddd",
   "metadata": {
    "id": "781520d6-2c55-44bb-8d66-5ce0be271ddd",
    "outputId": "93f2f29f-ce8f-4015-eecc-8c5188cd8d5a"
   },
   "outputs": [
    {
     "name": "stdout",
     "output_type": "stream",
     "text": [
      "Grados Existentes: {0, 1, 2, 3, 4, 5, 6, 7, 8, 9, 10, 11, 12, 13, 14, 15, 16, 17, 18, 19, 20, 21, 22, 23, 24, 25, 26, 27, 28, 29, 30, 31, 32, 33, 34, 35, 36, 37, 38, 39, 40, 41, 42, 43, 44, 45, 46, 47, 48, 49, 50, 51, 52, 53, 54, 55, 567, 57, 58, 59, 60, 61, 62, 63, 3136, 64, 66, 67, 68, 69, 70, 71, 72, 73, 74, 75, 76, 77, 590, 79, 80, 81, 82, 78, 84, 85, 86, 87, 88, 89, 90, 91, 92, 93, 94, 95, 96, 1633, 97, 2659, 100, 101, 102, 3176, 104, 106, 105, 108, 109, 110, 111, 112, 113, 114, 115, 116, 117, 118, 122, 123, 127, 129, 133, 134, 135, 136, 137, 142, 143, 147, 149, 151, 152, 153, 154, 157, 161, 162, 163, 165, 167, 170, 8366, 175, 178, 181, 182, 186, 189, 190, 196, 199, 206, 208, 215, 220, 5367, 3835, 252, 251, 3852, 273, 278, 56, 285, 316, 65, 365, 370, 392, 83, 5558, 458}\n",
      "\n",
      "Media de Grados: 2.8419935086601753\n"
     ]
    }
   ],
   "source": [
    "degrees = [val for (node, val) in Gdir.degree()]\n",
    "print(f'Grados Existentes: {set(degrees)}')\n",
    "print(f'\\nMedia de Grados: {statistics.mean(degrees)}')"
   ]
  },
  {
   "cell_type": "code",
   "execution_count": 21,
   "id": "704636f5-18f8-4fd0-ade7-a9cb22e221df",
   "metadata": {
    "colab": {
     "base_uri": "https://localhost:8080/",
     "height": 430
    },
    "id": "704636f5-18f8-4fd0-ade7-a9cb22e221df",
    "outputId": "de5e3724-b28a-45a5-e779-1c1c3ec68f92"
   },
   "outputs": [
    {
     "data": {
      "image/png": "[encoded data removed]",
      "text/plain": [
       "<Figure size 1008x576 with 1 Axes>"
      ]
     },
     "metadata": {},
     "output_type": "display_data"
    }
   ],
   "source": [
    "deg_histo = nx.degree_histogram(Gdir)\n",
    "bins = range(len(deg_histo))\n",
    "\n",
    "fig, ax = plt.subplots(figsize=(14,8))\n",
    "ax.set_title('Distribución de Grado')\n",
    "ax.set_xlabel(r'$k$')\n",
    "ax.set_ylabel(r'$p_k$')\n",
    "plt.xscale(\"log\")\n",
    "plt.yscale(\"log\")\n",
    "ax.bar(bins, deg_histo)\n",
    "plt.show()"
   ]
  },
  {
   "cell_type": "markdown",
   "id": "60ad19ea-024a-4478-b63a-fa18aff0e865",
   "metadata": {
    "id": "60ad19ea-024a-4478-b63a-fa18aff0e865"
   },
   "source": [
    "#### Asortatividad (assortativity)"
   ]
  },
  {
   "cell_type": "markdown",
   "id": "1668fee4-3868-4c19-b7f7-04e4f0a37510",
   "metadata": {
    "id": "1668fee4-3868-4c19-b7f7-04e4f0a37510"
   },
   "source": [
    "Es una característica que tienen los nodos de una red que indica la preferencia por unirse a otros nodos con rasgos característicos similares. \\\n",
    "Se estudia normalmente en función del grado de los nodos, ya que se tienden a unir nodos con un grado similar, se puede medir este nivel de asortatividad con la medida del coeficiente de asortatividad, llamdo también coeficiente de correlación de Pearson. \\\n",
    "Si r da valores positivos, se tendrán correlaciones entre nodos con grado similar, si son negativos se tendrán correlaciones entre nodos con grado diferente. Lo normal es que r tome valores entre -1 y 1, con tres casos absolutos que marcan la asortatividad:\n",
    "* Si r es igual a -1, tendremos una red disortitiva.\n",
    "* Si r es igual a 0, se tendrá una red no asortativa (neutral).\n",
    "* Si r es igual a 1, tendremos una red totalmente asortativa."
   ]
  },
  {
   "cell_type": "code",
   "execution_count": 22,
   "id": "d6a2a53f-982d-4880-b2f8-2c5228eb2953",
   "metadata": {
    "id": "d6a2a53f-982d-4880-b2f8-2c5228eb2953",
    "outputId": "72cd8a1b-87ed-4456-c37e-e3e14af91896"
   },
   "outputs": [
    {
     "name": "stdout",
     "output_type": "stream",
     "text": [
      "Asortatividad: -0.1\n"
     ]
    }
   ],
   "source": [
    "r = nx.degree_assortativity_coefficient(Gdir)\n",
    "print(f'Asortatividad: {r:3.1f}')"
   ]
  },
  {
   "cell_type": "markdown",
   "id": "e9e21653-0581-40aa-8c64-f678d4350bf0",
   "metadata": {
    "id": "e9e21653-0581-40aa-8c64-f678d4350bf0"
   },
   "source": [
    "#### Transitividad"
   ]
  },
  {
   "cell_type": "code",
   "execution_count": 23,
   "id": "3a03ffe7-567d-4a9b-8f28-b8d111593f65",
   "metadata": {
    "executionInfo": {
     "elapsed": 25377,
     "status": "ok",
     "timestamp": 1638826805147,
     "user": {
      "displayName": "María Belén Acotto",
      "photoUrl": "https://lh3.googleusercontent.com/a-/AOh14GgxTl0geb_R3SIr4AA6LSVxhUsOjZdbmESuiHF-wOs=s64",
      "userId": "02753886766132213766"
     },
     "user_tz": 180
    },
    "id": "3a03ffe7-567d-4a9b-8f28-b8d111593f65",
    "outputId": "5766bfc9-cd81-418f-b9c7-53b9303e9309"
   },
   "outputs": [
    {
     "name": "stdout",
     "output_type": "stream",
     "text": [
      "Transitivity: 0.00033160843475072696\n"
     ]
    }
   ],
   "source": [
    "clustering_coefficient = nx.transitivity(Gdir)\n",
    "print(f'Transitivity: {clustering_coefficient}')"
   ]
  },
  {
   "cell_type": "markdown",
   "id": "DLa5eJ9_qxYf",
   "metadata": {
    "id": "DLa5eJ9_qxYf"
   },
   "source": [
    "La transitividad se refiere que existe una relación (conexión) entre 2 o más nodos y por decirlo así se puede viajar de cualquiera de los nodos."
   ]
  },
  {
   "cell_type": "markdown",
   "id": "7c9dbbc9-b485-4904-a636-7ba86e0112b5",
   "metadata": {
    "id": "7c9dbbc9-b485-4904-a636-7ba86e0112b5"
   },
   "source": [
    "#### Coeficiente de clustering de Watts-Strogatz"
   ]
  },
  {
   "cell_type": "code",
   "execution_count": 24,
   "id": "e9d5fa80-5ecc-4b22-9e88-c371fddfb089",
   "metadata": {
    "id": "e9d5fa80-5ecc-4b22-9e88-c371fddfb089",
    "outputId": "a0f77ae2-41c7-41fe-c685-3124ff86267f"
   },
   "outputs": [
    {
     "name": "stdout",
     "output_type": "stream",
     "text": [
      "0.036662170691291136\n"
     ]
    }
   ],
   "source": [
    "coef_ws = nx.average_clustering(Gdir)\n",
    "print(coef_ws)"
   ]
  },
  {
   "cell_type": "markdown",
   "id": "W-tyLuVepI5A",
   "metadata": {
    "id": "W-tyLuVepI5A"
   },
   "source": [
    "Dicho coeficiente nos indica cómo que tan **acumulados** están los nodos de la red, y la distancia media entre vértices, que cuantifica, en media, la distancia entre dos vértices cualesquiera.\n",
    "Este modelo propone redes  pequeñas con mundo cuyas características más sobresalientes son:\n",
    "\n",
    "*   Un trayecto mínimo promedio entre vértices pequeño, con este concepto estamos definiendo un recorrido de dos vértices que en el mismo contemplan vértices intermedios con distancias relativamente pequeñas. \n",
    "*  Un coeficiente de agrupamiento medio elevado: si dos vértices o nodos no están conectados directamente entre sí, entonces existe una gran probabilidad de que se conecten mediante la intervención de otros nodos."
   ]
  },
  {
   "cell_type": "markdown",
   "id": "ffd1f1e3-bf36-4186-8770-4e71a88ccdd7",
   "metadata": {
    "id": "ffd1f1e3-bf36-4186-8770-4e71a88ccdd7"
   },
   "source": [
    "---"
   ]
  },
  {
   "cell_type": "markdown",
   "id": "919c1890-377b-45ed-8e2b-e6663ea43e2b",
   "metadata": {
    "id": "919c1890-377b-45ed-8e2b-e6663ea43e2b",
    "tags": []
   },
   "source": [
    "### **2. Centralidad**\n",
    "\n",
    "Calcular 5 métricas de centralidad de nodos. Graficar la distribución de cada una de ellas ¿Existe alguna correlación entre las distintas centralidades? \n",
    "\n",
    "Hacer un ranking con los 10 nodos más centrales para cada métrica. ¿Hay coincidencia entre los rankings?. ¿Qué características tienen los usuarios más centrales y sus respectivos tweets?\n",
    "\n",
    "**Opcional:** Determinar si existe alguna correlación entre la centralidad de un nodo y su actividad en red social. Es decir, evaluar si los usuarios que más escriben son los más centrales o no.\n"
   ]
  },
  {
   "cell_type": "markdown",
   "id": "eff92a29-89ff-46a5-bd90-8044fc79bbc0",
   "metadata": {
    "id": "eff92a29-89ff-46a5-bd90-8044fc79bbc0"
   },
   "source": [
    "Creamos un dataframe con los nodos encontrados en nuestro Grafo Direccionado"
   ]
  },
  {
   "cell_type": "code",
   "execution_count": 25,
   "id": "2IVL4J78r_Od",
   "metadata": {
    "id": "2IVL4J78r_Od"
   },
   "outputs": [],
   "source": [
    "df_medidas = pd.DataFrame(index=list(Gdir.nodes()))\n",
    "deg_seq = np.array([k for v, k in Gdir.degree()])\n",
    "df_medidas['degree'] = deg_seq"
   ]
  },
  {
   "cell_type": "markdown",
   "id": "4e55664e-838e-4e97-8db9-87a18acb78dd",
   "metadata": {
    "id": "4e55664e-838e-4e97-8db9-87a18acb78dd"
   },
   "source": [
    "Usamos la librería igraph para sacar betweenness, ya que el volumen de datos es muy grande como para Networkx"
   ]
  },
  {
   "cell_type": "code",
   "execution_count": 26,
   "id": "7ff2eaaa-8d22-4b58-838c-a6c9305fd7d1",
   "metadata": {
    "id": "7ff2eaaa-8d22-4b58-838c-a6c9305fd7d1"
   },
   "outputs": [],
   "source": [
    "g_ig = ig.read('graph.graphml',format=\"graphml\") # Create new IG graph from file"
   ]
  },
  {
   "cell_type": "markdown",
   "id": "d8ac2659-83d5-4a27-adf0-c0cab6bcf126",
   "metadata": {
    "id": "d8ac2659-83d5-4a27-adf0-c0cab6bcf126"
   },
   "source": [
    "#### Betweenness"
   ]
  },
  {
   "cell_type": "markdown",
   "id": "PCQGOVO6sq8d",
   "metadata": {
    "id": "PCQGOVO6sq8d"
   },
   "source": [
    "Para obtener la centralidad de los vértices de un grafo, será necesario saber cuántas veces aparece un vértice en cada camino mínimo posible dentro del grafo. Para ésto, será necesario calcular los caminos mínimos entre todos los pares de vértices (sin ser uno de los extremos). Esto nos dirá cuan seguido se pasa por el vértice en cuestión para llegar a los demás."
   ]
  },
  {
   "cell_type": "code",
   "execution_count": 27,
   "id": "66ecd8d2-480e-4191-bd84-a16fc2b99a1a",
   "metadata": {
    "id": "66ecd8d2-480e-4191-bd84-a16fc2b99a1a"
   },
   "outputs": [],
   "source": [
    "betweenness = g_ig.betweenness()"
   ]
  },
  {
   "cell_type": "markdown",
   "id": "7005904e-9297-48ed-a459-4f625c110356",
   "metadata": {
    "id": "7005904e-9297-48ed-a459-4f625c110356"
   },
   "source": [
    "#### Autovector (Eigenvector)"
   ]
  },
  {
   "cell_type": "code",
   "execution_count": 28,
   "id": "0b327c27-2bd6-4f33-8b90-c12c0f752be2",
   "metadata": {
    "id": "0b327c27-2bd6-4f33-8b90-c12c0f752be2"
   },
   "outputs": [],
   "source": [
    "eigenvector = nx.eigenvector_centrality(Gdir)"
   ]
  },
  {
   "cell_type": "markdown",
   "id": "52eee942-9dc9-43b5-b6b1-a27ebe3670ae",
   "metadata": {
    "id": "52eee942-9dc9-43b5-b6b1-a27ebe3670ae"
   },
   "source": [
    "#### Autovector - Variante Katz"
   ]
  },
  {
   "cell_type": "markdown",
   "id": "1d0dee06-865c-40b1-9a17-e5822036f2ba",
   "metadata": {
    "id": "1d0dee06-865c-40b1-9a17-e5822036f2ba"
   },
   "source": [
    "No se calcula, ya que el tiempo que tarda es demasiado y no se encontró otro que lo suplante."
   ]
  },
  {
   "cell_type": "code",
   "execution_count": 29,
   "id": "9ff180e9-0d3d-45cd-89ce-cb7387cb785f",
   "metadata": {
    "id": "9ff180e9-0d3d-45cd-89ce-cb7387cb785f"
   },
   "outputs": [],
   "source": [
    "#katz = nx.katz_centrality(Gdir, max_iter=number_of_nodes(Gdir))"
   ]
  },
  {
   "cell_type": "markdown",
   "id": "Lx4o9_Lks_km",
   "metadata": {
    "id": "Lx4o9_Lks_km"
   },
   "source": [
    " Esta medida analiza el vértice en función de los autovalores y autovectores de la matriz de adyacencia. Para el gráfo en análisis, es demasiado costoso el cálculo del mismo. "
   ]
  },
  {
   "cell_type": "markdown",
   "id": "232bfdb0-82b2-40ec-a75a-d87407080aa6",
   "metadata": {
    "id": "232bfdb0-82b2-40ec-a75a-d87407080aa6"
   },
   "source": [
    "#### Autovector - Variante Page Rank"
   ]
  },
  {
   "cell_type": "code",
   "execution_count": 30,
   "id": "d6db4be7-20f2-4200-b038-f5875621966d",
   "metadata": {
    "id": "d6db4be7-20f2-4200-b038-f5875621966d"
   },
   "outputs": [],
   "source": [
    "pagerank = nx.pagerank(Gdir)"
   ]
  },
  {
   "cell_type": "markdown",
   "id": "PJs4eFFuvS6q",
   "metadata": {
    "id": "PJs4eFFuvS6q"
   },
   "source": [
    "Este algoritmo de centralidad de vector propio mide especialmente el grado de influencia de un nodo o vértice dentro de un grafo"
   ]
  },
  {
   "cell_type": "markdown",
   "id": "25c5ce5d-c6b3-4678-a3ff-a7c40f1d085e",
   "metadata": {
    "id": "25c5ce5d-c6b3-4678-a3ff-a7c40f1d085e"
   },
   "source": [
    "#### Cercanía (Closeness)"
   ]
  },
  {
   "cell_type": "code",
   "execution_count": 31,
   "id": "0ba9212d-37b6-41fb-8d0c-a6548644f1f2",
   "metadata": {
    "id": "0ba9212d-37b6-41fb-8d0c-a6548644f1f2"
   },
   "outputs": [],
   "source": [
    "closeness = g_ig.closeness()"
   ]
  },
  {
   "cell_type": "markdown",
   "id": "hbIP2VPVtSEM",
   "metadata": {
    "id": "hbIP2VPVtSEM"
   },
   "source": [
    "Esta medida nos da el dato del promedio de las distancias del vértice a todos los demás."
   ]
  },
  {
   "cell_type": "markdown",
   "id": "414a94b9-a209-4001-9e8c-87efe723a6e1",
   "metadata": {
    "id": "414a94b9-a209-4001-9e8c-87efe723a6e1"
   },
   "source": [
    "Agregamos todos los resultados a nuestro dataframe"
   ]
  },
  {
   "cell_type": "code",
   "execution_count": 32,
   "id": "f031659b-9f51-4f92-b8a0-7d70b4063bae",
   "metadata": {
    "id": "f031659b-9f51-4f92-b8a0-7d70b4063bae"
   },
   "outputs": [],
   "source": [
    "df_medidas['betweenness'] = betweenness\n",
    "df_medidas['eigenvector'] = list(eigenvector.values())\n",
    "df_medidas['pagerank'] = list(pagerank.values())\n",
    "#df_medidas['katz'] = list(katz.values())\n",
    "df_medidas['closeness'] = closeness"
   ]
  },
  {
   "cell_type": "markdown",
   "id": "7ad85bfb-f860-4581-9df6-1907206169c2",
   "metadata": {
    "id": "7ad85bfb-f860-4581-9df6-1907206169c2"
   },
   "source": [
    "#### Distribución"
   ]
  },
  {
   "cell_type": "code",
   "execution_count": 33,
   "id": "bff4dad9-b372-4161-818c-8b47afbf3d47",
   "metadata": {
    "id": "bff4dad9-b372-4161-818c-8b47afbf3d47"
   },
   "outputs": [
    {
     "data": {
      "text/html": [
       "<div>\n",
       "<style scoped>\n",
       "    .dataframe tbody tr th:only-of-type {\n",
       "        vertical-align: middle;\n",
       "    }\n",
       "\n",
       "    .dataframe tbody tr th {\n",
       "        vertical-align: top;\n",
       "    }\n",
       "\n",
       "    .dataframe thead th {\n",
       "        text-align: right;\n",
       "    }\n",
       "</style>\n",
       "<table border=\"1\" class=\"dataframe\">\n",
       "  <thead>\n",
       "    <tr style=\"text-align: right;\">\n",
       "      <th></th>\n",
       "      <th>degree</th>\n",
       "      <th>betweenness</th>\n",
       "      <th>eigenvector</th>\n",
       "      <th>pagerank</th>\n",
       "      <th>closeness</th>\n",
       "    </tr>\n",
       "  </thead>\n",
       "  <tbody>\n",
       "    <tr>\n",
       "      <th>count</th>\n",
       "      <td>65934.000000</td>\n",
       "      <td>6.593400e+04</td>\n",
       "      <td>6.593400e+04</td>\n",
       "      <td>65934.000000</td>\n",
       "      <td>39743.000000</td>\n",
       "    </tr>\n",
       "    <tr>\n",
       "      <th>mean</th>\n",
       "      <td>2.841994</td>\n",
       "      <td>8.273076e+03</td>\n",
       "      <td>1.245038e-03</td>\n",
       "      <td>0.000015</td>\n",
       "      <td>0.278359</td>\n",
       "    </tr>\n",
       "    <tr>\n",
       "      <th>std</th>\n",
       "      <td>54.292250</td>\n",
       "      <td>3.834923e+05</td>\n",
       "      <td>3.690091e-03</td>\n",
       "      <td>0.000018</td>\n",
       "      <td>0.086733</td>\n",
       "    </tr>\n",
       "    <tr>\n",
       "      <th>min</th>\n",
       "      <td>0.000000</td>\n",
       "      <td>0.000000e+00</td>\n",
       "      <td>4.809031e-22</td>\n",
       "      <td>0.000013</td>\n",
       "      <td>0.130407</td>\n",
       "    </tr>\n",
       "    <tr>\n",
       "      <th>25%</th>\n",
       "      <td>0.000000</td>\n",
       "      <td>0.000000e+00</td>\n",
       "      <td>4.809031e-22</td>\n",
       "      <td>0.000013</td>\n",
       "      <td>0.254959</td>\n",
       "    </tr>\n",
       "    <tr>\n",
       "      <th>50%</th>\n",
       "      <td>1.000000</td>\n",
       "      <td>0.000000e+00</td>\n",
       "      <td>8.175352e-21</td>\n",
       "      <td>0.000013</td>\n",
       "      <td>0.273192</td>\n",
       "    </tr>\n",
       "    <tr>\n",
       "      <th>75%</th>\n",
       "      <td>1.000000</td>\n",
       "      <td>0.000000e+00</td>\n",
       "      <td>6.226832e-07</td>\n",
       "      <td>0.000013</td>\n",
       "      <td>0.284754</td>\n",
       "    </tr>\n",
       "    <tr>\n",
       "      <th>max</th>\n",
       "      <td>8366.000000</td>\n",
       "      <td>5.482051e+07</td>\n",
       "      <td>1.364257e-01</td>\n",
       "      <td>0.001347</td>\n",
       "      <td>1.000000</td>\n",
       "    </tr>\n",
       "  </tbody>\n",
       "</table>\n",
       "</div>"
      ],
      "text/plain": [
       "             degree   betweenness   eigenvector      pagerank     closeness\n",
       "count  65934.000000  6.593400e+04  6.593400e+04  65934.000000  39743.000000\n",
       "mean       2.841994  8.273076e+03  1.245038e-03      0.000015      0.278359\n",
       "std       54.292250  3.834923e+05  3.690091e-03      0.000018      0.086733\n",
       "min        0.000000  0.000000e+00  4.809031e-22      0.000013      0.130407\n",
       "25%        0.000000  0.000000e+00  4.809031e-22      0.000013      0.254959\n",
       "50%        1.000000  0.000000e+00  8.175352e-21      0.000013      0.273192\n",
       "75%        1.000000  0.000000e+00  6.226832e-07      0.000013      0.284754\n",
       "max     8366.000000  5.482051e+07  1.364257e-01      0.001347      1.000000"
      ]
     },
     "execution_count": 33,
     "metadata": {},
     "output_type": "execute_result"
    }
   ],
   "source": [
    "df_medidas.describe()"
   ]
  },
  {
   "cell_type": "markdown",
   "id": "cfb916e7-a0a7-4608-b5b8-3fbc6ce00fb2",
   "metadata": {
    "id": "cfb916e7-a0a7-4608-b5b8-3fbc6ce00fb2"
   },
   "source": [
    "#### Top 10 Centralidad"
   ]
  },
  {
   "cell_type": "code",
   "execution_count": 34,
   "id": "U5Ql2jHDHh53",
   "metadata": {
    "id": "U5Ql2jHDHh53"
   },
   "outputs": [
    {
     "data": {
      "text/html": [
       "<div>\n",
       "<style scoped>\n",
       "    .dataframe tbody tr th:only-of-type {\n",
       "        vertical-align: middle;\n",
       "    }\n",
       "\n",
       "    .dataframe tbody tr th {\n",
       "        vertical-align: top;\n",
       "    }\n",
       "\n",
       "    .dataframe thead th {\n",
       "        text-align: right;\n",
       "    }\n",
       "</style>\n",
       "<table border=\"1\" class=\"dataframe\">\n",
       "  <thead>\n",
       "    <tr style=\"text-align: right;\">\n",
       "      <th></th>\n",
       "      <th>degree</th>\n",
       "      <th>betweenness</th>\n",
       "      <th>eigenvector</th>\n",
       "      <th>pagerank</th>\n",
       "      <th>closeness</th>\n",
       "    </tr>\n",
       "  </thead>\n",
       "  <tbody>\n",
       "    <tr>\n",
       "      <th>0</th>\n",
       "      <td>252168075</td>\n",
       "      <td>252168075</td>\n",
       "      <td>1167510078649487361</td>\n",
       "      <td>396312747</td>\n",
       "      <td>1257089710897401857</td>\n",
       "    </tr>\n",
       "    <tr>\n",
       "      <th>1</th>\n",
       "      <td>130979339</td>\n",
       "      <td>312708081</td>\n",
       "      <td>252168075</td>\n",
       "      <td>315864204</td>\n",
       "      <td>131418981</td>\n",
       "    </tr>\n",
       "    <tr>\n",
       "      <th>2</th>\n",
       "      <td>73102744</td>\n",
       "      <td>1163957624368521217</td>\n",
       "      <td>315864204</td>\n",
       "      <td>1167510078649487361</td>\n",
       "      <td>1125618989646872578</td>\n",
       "    </tr>\n",
       "    <tr>\n",
       "      <th>3</th>\n",
       "      <td>367933714</td>\n",
       "      <td>130979339</td>\n",
       "      <td>396312747</td>\n",
       "      <td>144311959</td>\n",
       "      <td>918008048</td>\n",
       "    </tr>\n",
       "    <tr>\n",
       "      <th>4</th>\n",
       "      <td>593189095</td>\n",
       "      <td>3421061763</td>\n",
       "      <td>4220072895</td>\n",
       "      <td>1249752252740403200</td>\n",
       "      <td>1047160180591550465</td>\n",
       "    </tr>\n",
       "    <tr>\n",
       "      <th>5</th>\n",
       "      <td>2687724840</td>\n",
       "      <td>2687724840</td>\n",
       "      <td>1233264558707527681</td>\n",
       "      <td>149762941</td>\n",
       "      <td>201924584</td>\n",
       "    </tr>\n",
       "    <tr>\n",
       "      <th>6</th>\n",
       "      <td>931564592328781824</td>\n",
       "      <td>4343677427</td>\n",
       "      <td>762686650715701248</td>\n",
       "      <td>762686650715701248</td>\n",
       "      <td>2427097620</td>\n",
       "    </tr>\n",
       "    <tr>\n",
       "      <th>7</th>\n",
       "      <td>144929758</td>\n",
       "      <td>1345500851117428736</td>\n",
       "      <td>299375176</td>\n",
       "      <td>1188801412337225729</td>\n",
       "      <td>229516510</td>\n",
       "    </tr>\n",
       "    <tr>\n",
       "      <th>8</th>\n",
       "      <td>312708081</td>\n",
       "      <td>60909246</td>\n",
       "      <td>1210378599238422528</td>\n",
       "      <td>1233264558707527681</td>\n",
       "      <td>835601672</td>\n",
       "    </tr>\n",
       "    <tr>\n",
       "      <th>9</th>\n",
       "      <td>1077176953</td>\n",
       "      <td>149762941</td>\n",
       "      <td>1062010454854324225</td>\n",
       "      <td>1210378599238422528</td>\n",
       "      <td>2302883271</td>\n",
       "    </tr>\n",
       "  </tbody>\n",
       "</table>\n",
       "</div>"
      ],
      "text/plain": [
       "               degree          betweenness          eigenvector  \\\n",
       "0           252168075            252168075  1167510078649487361   \n",
       "1           130979339            312708081            252168075   \n",
       "2            73102744  1163957624368521217            315864204   \n",
       "3           367933714            130979339            396312747   \n",
       "4           593189095           3421061763           4220072895   \n",
       "5          2687724840           2687724840  1233264558707527681   \n",
       "6  931564592328781824           4343677427   762686650715701248   \n",
       "7           144929758  1345500851117428736            299375176   \n",
       "8           312708081             60909246  1210378599238422528   \n",
       "9          1077176953            149762941  1062010454854324225   \n",
       "\n",
       "              pagerank            closeness  \n",
       "0            396312747  1257089710897401857  \n",
       "1            315864204            131418981  \n",
       "2  1167510078649487361  1125618989646872578  \n",
       "3            144311959            918008048  \n",
       "4  1249752252740403200  1047160180591550465  \n",
       "5            149762941            201924584  \n",
       "6   762686650715701248           2427097620  \n",
       "7  1188801412337225729            229516510  \n",
       "8  1233264558707527681            835601672  \n",
       "9  1210378599238422528           2302883271  "
      ]
     },
     "execution_count": 34,
     "metadata": {},
     "output_type": "execute_result"
    }
   ],
   "source": [
    "columns = ['degree', 'betweenness', 'eigenvector', 'pagerank', 'closeness']\n",
    "data = {}\n",
    "for col in columns:\n",
    "    top_rtw = df_medidas.nlargest(10, columns=[col])[col].index  #top 5 de las medidas de centralidad, buscamos el dato mas repetido \n",
    "    data[col] = top_rtw\n",
    "pd.DataFrame(data)"
   ]
  },
  {
   "cell_type": "code",
   "execution_count": null,
   "id": "3ff4f12d-d995-4770-b0bc-52106460343e",
   "metadata": {
    "id": "3ff4f12d-d995-4770-b0bc-52106460343e"
   },
   "outputs": [],
   "source": []
  },
  {
   "cell_type": "markdown",
   "id": "eb037f16-0ea1-4103-98ee-ed0c162f416c",
   "metadata": {
    "id": "eb037f16-0ea1-4103-98ee-ed0c162f416c"
   },
   "source": [
    "---"
   ]
  },
  {
   "cell_type": "markdown",
   "id": "OAXQ3Snl1RrB",
   "metadata": {
    "id": "OAXQ3Snl1RrB",
    "tags": []
   },
   "source": [
    "\n",
    "### **3. Comunidades**\n",
    "\n",
    "Utilizar el algoritmo de Louvain con el parámetro \"resolución\" igual a 1. Caracterizar las comunidades halladas (cantidad, distribución de tamaños). Utilizar la modularidad y otras dos métricas a elección para evaluar la calidad de la partición encontrada. \n",
    "\n",
    "Variar el parámetro \"resolución\" y observar cómo cambia la distribución de comunidades encontradas. ¿Existe algún valor para el cual se identifiquen dos grandes comunidades?\n",
    "\n",
    "Elegir otro algoritmo de detección de comunidades y comparar los resultados con los obtenidos anteriormente.\n",
    "\n",
    "**Opcional:** Correr el algoritmo de Louvain con distintas semillas aleatorias. Utilizar alguna métrica de comparación externa entre las particiones obtenidas para determinar en qué medida depende el algoritmo de la condición inicial."
   ]
  },
  {
   "cell_type": "code",
   "execution_count": 35,
   "id": "8_nOwLaDNnnG",
   "metadata": {
    "id": "8_nOwLaDNnnG"
   },
   "outputs": [],
   "source": [
    "def run_louvain(g, min_res, max_res, samples=10, logspace=True):\n",
    "    comms_dict = {}\n",
    "    if logspace:\n",
    "        resolutions = np.logspace(np.log10(min_res), np.log10(max_res), samples)\n",
    "    else:\n",
    "        resolutions = np.linspace(min_res, max_res, samples)\n",
    "    for resolution in resolutions:\n",
    "        comms = algorithms.louvain(\n",
    "            g, weight='weight', resolution=resolution, randomize=False\n",
    "        )\n",
    "        comms_dict[resolution] = comms\n",
    "    return comms_dict\n",
    "\n",
    "def plot_louvain(g, min_res, max_res, samples=10, logspace=True):\n",
    "    comms_dict = run_louvain(g, min_res, max_res, samples)\n",
    "    resolutions = comms_dict.keys()\n",
    "    Q_values = [evaluation.newman_girvan_modularity(g, comms).score for comms in comms_dict.values()]\n",
    "    fig, ax = plt.subplots(figsize=(12,5))\n",
    "    ax.set_ylabel('Q')\n",
    "    ax.set_xlabel('Resolution')\n",
    "    ax.set_xscale('log')\n",
    "    ax.plot(resolutions, Q_values, '-', label='Louvain')\n",
    "    ax.legend()\n",
    "    return ax"
   ]
  },
  {
   "cell_type": "markdown",
   "id": "b7c1fe6e-cc85-464f-b339-cab3b9113fcb",
   "metadata": {
    "id": "b7c1fe6e-cc85-464f-b339-cab3b9113fcb"
   },
   "source": [
    "#### Algoritmo de Louvain"
   ]
  },
  {
   "cell_type": "markdown",
   "id": "0HYh3dQTwDV4",
   "metadata": {
    "id": "0HYh3dQTwDV4"
   },
   "source": [
    "El algoritmo de Louvain es un algoritmo que responde a los métodos de modularidad para determinar la existencia de comunidades dentro de los conjuntos de datos. Este algoritmo estudia y evalua los conjuntos de datos para establecer una relación de contraste en términos de densidad de las aristas que se encuentran en el conjunto de datos bien sean internas o externas.  Con los resultados producto del algoritmo se obtiene un estimado de agrupación de todos los nodos que pertenecen a una red específica."
   ]
  },
  {
   "cell_type": "code",
   "execution_count": 36,
   "id": "301a200e-b0d3-43ef-be92-17ee910fa8d6",
   "metadata": {
    "id": "301a200e-b0d3-43ef-be92-17ee910fa8d6"
   },
   "outputs": [],
   "source": [
    "comms_louvain = algorithms.louvain(G, weight='weight', resolution=1, randomize=False)"
   ]
  },
  {
   "cell_type": "markdown",
   "id": "32253123-2214-4fb1-a7ab-dbb248975221",
   "metadata": {
    "id": "32253123-2214-4fb1-a7ab-dbb248975221"
   },
   "source": [
    "#### Comunidades louvain"
   ]
  },
  {
   "cell_type": "markdown",
   "id": "daa96e31-5f40-47ac-a687-d3bea4a50b51",
   "metadata": {},
   "source": [
    "Como podemos ver, tenemos muchas comunidades, las cuales insertaremos en un dataframe de Pandas para poder tratarlo."
   ]
  },
  {
   "cell_type": "code",
   "execution_count": 89,
   "id": "4eb498d8-af6d-4172-8501-bebbd287c1d8",
   "metadata": {},
   "outputs": [
    {
     "data": {
      "text/html": [
       "<div>\n",
       "<style scoped>\n",
       "    .dataframe tbody tr th:only-of-type {\n",
       "        vertical-align: middle;\n",
       "    }\n",
       "\n",
       "    .dataframe tbody tr th {\n",
       "        vertical-align: top;\n",
       "    }\n",
       "\n",
       "    .dataframe thead th {\n",
       "        text-align: right;\n",
       "    }\n",
       "</style>\n",
       "<table border=\"1\" class=\"dataframe\">\n",
       "  <thead>\n",
       "    <tr style=\"text-align: right;\">\n",
       "      <th></th>\n",
       "      <th>ncomms</th>\n",
       "      <th>size</th>\n",
       "      <th>users</th>\n",
       "    </tr>\n",
       "  </thead>\n",
       "  <tbody>\n",
       "    <tr>\n",
       "      <th>0</th>\n",
       "      <td>0</td>\n",
       "      <td>8093</td>\n",
       "      <td>[1438195184, 73102744, 840377572038983680, 107...</td>\n",
       "    </tr>\n",
       "    <tr>\n",
       "      <th>1</th>\n",
       "      <td>1</td>\n",
       "      <td>7314</td>\n",
       "      <td>[2737379453, 484349869, 1297307280938065921, 9...</td>\n",
       "    </tr>\n",
       "    <tr>\n",
       "      <th>2</th>\n",
       "      <td>2</td>\n",
       "      <td>6991</td>\n",
       "      <td>[252168075, 1285055382210125832, 9269698582810...</td>\n",
       "    </tr>\n",
       "    <tr>\n",
       "      <th>3</th>\n",
       "      <td>3</td>\n",
       "      <td>4781</td>\n",
       "      <td>[10427162, 1348193396, 726631311771852804, 186...</td>\n",
       "    </tr>\n",
       "    <tr>\n",
       "      <th>4</th>\n",
       "      <td>4</td>\n",
       "      <td>3387</td>\n",
       "      <td>[600710938, 151929451, 1089559024620789762, 90...</td>\n",
       "    </tr>\n",
       "    <tr>\n",
       "      <th>5</th>\n",
       "      <td>5</td>\n",
       "      <td>3250</td>\n",
       "      <td>[442142518, 167939347, 71906128, 1214951596137...</td>\n",
       "    </tr>\n",
       "    <tr>\n",
       "      <th>6</th>\n",
       "      <td>6</td>\n",
       "      <td>2937</td>\n",
       "      <td>[719331994665099264, 1433751968, 2178330104, 1...</td>\n",
       "    </tr>\n",
       "    <tr>\n",
       "      <th>7</th>\n",
       "      <td>7</td>\n",
       "      <td>589</td>\n",
       "      <td>[1225934818745167873, 180406199, 1138390137673...</td>\n",
       "    </tr>\n",
       "    <tr>\n",
       "      <th>8</th>\n",
       "      <td>8</td>\n",
       "      <td>521</td>\n",
       "      <td>[1320842148103786497, 110468150, 9569812482992...</td>\n",
       "    </tr>\n",
       "    <tr>\n",
       "      <th>9</th>\n",
       "      <td>9</td>\n",
       "      <td>273</td>\n",
       "      <td>[955125798750564357, 789084316068356096, 47605...</td>\n",
       "    </tr>\n",
       "    <tr>\n",
       "      <th>10</th>\n",
       "      <td>10</td>\n",
       "      <td>213</td>\n",
       "      <td>[75740259, 853527444, 855071173725630464, 1214...</td>\n",
       "    </tr>\n",
       "    <tr>\n",
       "      <th>11</th>\n",
       "      <td>11</td>\n",
       "      <td>106</td>\n",
       "      <td>[928430276224659456, 954663943464718336, 15075...</td>\n",
       "    </tr>\n",
       "    <tr>\n",
       "      <th>12</th>\n",
       "      <td>12</td>\n",
       "      <td>87</td>\n",
       "      <td>[416876488, 1195010655021084675, 131042590, 22...</td>\n",
       "    </tr>\n",
       "    <tr>\n",
       "      <th>13</th>\n",
       "      <td>13</td>\n",
       "      <td>85</td>\n",
       "      <td>[4197549682, 1935742783, 759110745024032768, 1...</td>\n",
       "    </tr>\n",
       "    <tr>\n",
       "      <th>14</th>\n",
       "      <td>14</td>\n",
       "      <td>61</td>\n",
       "      <td>[291937554, 150734923, 215508107, 89035998, 12...</td>\n",
       "    </tr>\n",
       "    <tr>\n",
       "      <th>15</th>\n",
       "      <td>15</td>\n",
       "      <td>52</td>\n",
       "      <td>[1055225580621307909, 2348644107, 1683589315, ...</td>\n",
       "    </tr>\n",
       "    <tr>\n",
       "      <th>16</th>\n",
       "      <td>16</td>\n",
       "      <td>46</td>\n",
       "      <td>[1198576736457445376, 999488046838972416, 1868...</td>\n",
       "    </tr>\n",
       "    <tr>\n",
       "      <th>18</th>\n",
       "      <td>18</td>\n",
       "      <td>44</td>\n",
       "      <td>[389131552, 515688516, 1468356433, 3363558297,...</td>\n",
       "    </tr>\n",
       "    <tr>\n",
       "      <th>17</th>\n",
       "      <td>17</td>\n",
       "      <td>44</td>\n",
       "      <td>[2334139796, 900013566018936832, 314745119, 12...</td>\n",
       "    </tr>\n",
       "    <tr>\n",
       "      <th>19</th>\n",
       "      <td>19</td>\n",
       "      <td>32</td>\n",
       "      <td>[493703013, 997543109264277504, 3904603756, 99...</td>\n",
       "    </tr>\n",
       "  </tbody>\n",
       "</table>\n",
       "</div>"
      ],
      "text/plain": [
       "    ncomms  size                                              users\n",
       "0        0  8093  [1438195184, 73102744, 840377572038983680, 107...\n",
       "1        1  7314  [2737379453, 484349869, 1297307280938065921, 9...\n",
       "2        2  6991  [252168075, 1285055382210125832, 9269698582810...\n",
       "3        3  4781  [10427162, 1348193396, 726631311771852804, 186...\n",
       "4        4  3387  [600710938, 151929451, 1089559024620789762, 90...\n",
       "5        5  3250  [442142518, 167939347, 71906128, 1214951596137...\n",
       "6        6  2937  [719331994665099264, 1433751968, 2178330104, 1...\n",
       "7        7   589  [1225934818745167873, 180406199, 1138390137673...\n",
       "8        8   521  [1320842148103786497, 110468150, 9569812482992...\n",
       "9        9   273  [955125798750564357, 789084316068356096, 47605...\n",
       "10      10   213  [75740259, 853527444, 855071173725630464, 1214...\n",
       "11      11   106  [928430276224659456, 954663943464718336, 15075...\n",
       "12      12    87  [416876488, 1195010655021084675, 131042590, 22...\n",
       "13      13    85  [4197549682, 1935742783, 759110745024032768, 1...\n",
       "14      14    61  [291937554, 150734923, 215508107, 89035998, 12...\n",
       "15      15    52  [1055225580621307909, 2348644107, 1683589315, ...\n",
       "16      16    46  [1198576736457445376, 999488046838972416, 1868...\n",
       "18      18    44  [389131552, 515688516, 1468356433, 3363558297,...\n",
       "17      17    44  [2334139796, 900013566018936832, 314745119, 12...\n",
       "19      19    32  [493703013, 997543109264277504, 3904603756, 99..."
      ]
     },
     "execution_count": 89,
     "metadata": {},
     "output_type": "execute_result"
    }
   ],
   "source": [
    "dict_comms = {'ncomms': np.arange(len(comms_louvain.communities)),\n",
    "              'size': [len(x) for x in comms_louvain.communities],\n",
    "              'users': [x for x in comms_louvain.communities]\n",
    "             }\n",
    "\n",
    "df_comms_louvain = pd.DataFrame(dict_comms).sort_values(by=['size'], ascending=False)\n",
    "df_comms_louvain.head(20)"
   ]
  },
  {
   "cell_type": "code",
   "execution_count": 38,
   "id": "5d58539d-cea6-4c66-97e3-3b8754eff826",
   "metadata": {},
   "outputs": [
    {
     "data": {
      "text/html": [
       "<div>\n",
       "<style scoped>\n",
       "    .dataframe tbody tr th:only-of-type {\n",
       "        vertical-align: middle;\n",
       "    }\n",
       "\n",
       "    .dataframe tbody tr th {\n",
       "        vertical-align: top;\n",
       "    }\n",
       "\n",
       "    .dataframe thead th {\n",
       "        text-align: right;\n",
       "    }\n",
       "</style>\n",
       "<table border=\"1\" class=\"dataframe\">\n",
       "  <thead>\n",
       "    <tr style=\"text-align: right;\">\n",
       "      <th></th>\n",
       "      <th>ncomms</th>\n",
       "      <th>size</th>\n",
       "    </tr>\n",
       "  </thead>\n",
       "  <tbody>\n",
       "    <tr>\n",
       "      <th>count</th>\n",
       "      <td>26490.000000</td>\n",
       "      <td>26490.000000</td>\n",
       "    </tr>\n",
       "    <tr>\n",
       "      <th>mean</th>\n",
       "      <td>13244.500000</td>\n",
       "      <td>2.489015</td>\n",
       "    </tr>\n",
       "    <tr>\n",
       "      <th>std</th>\n",
       "      <td>7647.148652</td>\n",
       "      <td>91.552866</td>\n",
       "    </tr>\n",
       "    <tr>\n",
       "      <th>min</th>\n",
       "      <td>0.000000</td>\n",
       "      <td>1.000000</td>\n",
       "    </tr>\n",
       "    <tr>\n",
       "      <th>25%</th>\n",
       "      <td>6622.250000</td>\n",
       "      <td>1.000000</td>\n",
       "    </tr>\n",
       "    <tr>\n",
       "      <th>50%</th>\n",
       "      <td>13244.500000</td>\n",
       "      <td>1.000000</td>\n",
       "    </tr>\n",
       "    <tr>\n",
       "      <th>75%</th>\n",
       "      <td>19866.750000</td>\n",
       "      <td>1.000000</td>\n",
       "    </tr>\n",
       "    <tr>\n",
       "      <th>max</th>\n",
       "      <td>26489.000000</td>\n",
       "      <td>8093.000000</td>\n",
       "    </tr>\n",
       "  </tbody>\n",
       "</table>\n",
       "</div>"
      ],
      "text/plain": [
       "             ncomms          size\n",
       "count  26490.000000  26490.000000\n",
       "mean   13244.500000      2.489015\n",
       "std     7647.148652     91.552866\n",
       "min        0.000000      1.000000\n",
       "25%     6622.250000      1.000000\n",
       "50%    13244.500000      1.000000\n",
       "75%    19866.750000      1.000000\n",
       "max    26489.000000   8093.000000"
      ]
     },
     "execution_count": 38,
     "metadata": {},
     "output_type": "execute_result"
    }
   ],
   "source": [
    "df_comms_louvain.describe()"
   ]
  },
  {
   "cell_type": "markdown",
   "id": "75b4c799-bd5f-449f-84e2-f36249c39132",
   "metadata": {},
   "source": [
    "Podemos ver que Louvain encontró dentro de las primeras 6 comunidades las más numerosas. A partir de esta, el numero de cantidad de nodos baja considerablemente."
   ]
  },
  {
   "cell_type": "markdown",
   "id": "e726ec77-a865-4b28-9472-2eba0d1f2f2d",
   "metadata": {},
   "source": [
    "Visualizamos sobre un gráfico de barras de las primeras 30 comunidades, ya que mirar todas las comunidades pequeñas no es relevante."
   ]
  },
  {
   "cell_type": "code",
   "execution_count": 39,
   "id": "774368f5-dbfe-47dd-8758-ab9572563fe6",
   "metadata": {
    "colab": {
     "base_uri": "https://localhost:8080/",
     "height": 430
    },
    "id": "704636f5-18f8-4fd0-ade7-a9cb22e221df",
    "outputId": "de5e3724-b28a-45a5-e779-1c1c3ec68f92"
   },
   "outputs": [
    {
     "data": {
      "image/png": "[encoded data removed]",
      "text/plain": [
       "<Figure size 1008x576 with 1 Axes>"
      ]
     },
     "metadata": {},
     "output_type": "display_data"
    }
   ],
   "source": [
    "fig, ax = plt.subplots(figsize=(14,8))\n",
    "sns.barplot(data=df_comms_louvain[:30],x='ncomms', y='size', palette='crest')\n",
    "plt.title('Comunidades Encontradas con Louvain', fontsize=16)\n",
    "plt.show()"
   ]
  },
  {
   "cell_type": "code",
   "execution_count": null,
   "id": "153deda6-cb46-4041-b600-8e85d1c949b0",
   "metadata": {},
   "outputs": [],
   "source": []
  },
  {
   "cell_type": "markdown",
   "id": "5aea5518-cb04-4257-979a-2df1baa24373",
   "metadata": {
    "id": "5aea5518-cb04-4257-979a-2df1baa24373"
   },
   "source": [
    "#### Modularidad"
   ]
  },
  {
   "cell_type": "code",
   "execution_count": 40,
   "id": "4d77d374-dde2-4817-8102-df7a5791943f",
   "metadata": {
    "id": "4d77d374-dde2-4817-8102-df7a5791943f",
    "outputId": "ad3b5e55-2f86-4c8c-8c61-7f3f6f3288b7"
   },
   "outputs": [
    {
     "name": "stdout",
     "output_type": "stream",
     "text": [
      "Comunidades encontradas: FitnessResult(min=None, max=None, score=0.5648973911603585, std=None)\n"
     ]
    }
   ],
   "source": [
    "print('Comunidades encontradas:', evaluation.newman_girvan_modularity(G, comms_louvain))"
   ]
  },
  {
   "cell_type": "markdown",
   "id": "52c35fb8-f778-432e-9364-3c3eb5283ac2",
   "metadata": {
    "id": "52c35fb8-f778-432e-9364-3c3eb5283ac2"
   },
   "source": [
    "#### Densidad Interna"
   ]
  },
  {
   "cell_type": "markdown",
   "id": "98671443-e30a-4045-a04c-1b5bf691e380",
   "metadata": {
    "id": "98671443-e30a-4045-a04c-1b5bf691e380"
   },
   "source": [
    "Analizamos la densidad de las comunidades resultantes"
   ]
  },
  {
   "cell_type": "code",
   "execution_count": 41,
   "id": "61ee0cd9-bfad-4371-b3d8-84cb17c7f0dd",
   "metadata": {
    "id": "61ee0cd9-bfad-4371-b3d8-84cb17c7f0dd",
    "outputId": "8589c3d0-3cc1-419a-98a2-69eaffc1dccd"
   },
   "outputs": [
    {
     "name": "stdout",
     "output_type": "stream",
     "text": [
      "Densidad del grafo: 4.2971766792413005e-05\n"
     ]
    }
   ],
   "source": [
    "m = G.number_of_edges()\n",
    "N = G.number_of_nodes()\n",
    "print('Densidad del grafo:', m/(N*(N-1)/2))"
   ]
  },
  {
   "cell_type": "code",
   "execution_count": 42,
   "id": "4eb1397b-7c1a-4934-abe4-1aec75736916",
   "metadata": {
    "id": "4eb1397b-7c1a-4934-abe4-1aec75736916",
    "outputId": "24ad1e84-0494-4086-dc00-a359daaee3b2"
   },
   "outputs": [
    {
     "name": "stdout",
     "output_type": "stream",
     "text": [
      "Comunidades encontradas: FitnessResult(min=0, max=3.0, score=0.009658266429210222, std=0.09940776211053243)\n"
     ]
    }
   ],
   "source": [
    "print('Comunidades encontradas:', evaluation.internal_edge_density(G, comms_louvain))"
   ]
  },
  {
   "cell_type": "markdown",
   "id": "44cc8343-a20d-4016-940d-97afe4cf94ed",
   "metadata": {
    "id": "44cc8343-a20d-4016-940d-97afe4cf94ed"
   },
   "source": [
    "#### **Índice de corte**\n",
    "\n",
    "Es el promedio de la fracción de enlaces entre pares de comunidades"
   ]
  },
  {
   "cell_type": "code",
   "execution_count": 43,
   "id": "493337a9-d851-44c5-94fd-8e852ff6a122",
   "metadata": {
    "id": "493337a9-d851-44c5-94fd-8e852ff6a122",
    "outputId": "33c72cb5-1623-48b1-a9d2-c8b9f31138f1"
   },
   "outputs": [
    {
     "name": "stdout",
     "output_type": "stream",
     "text": [
      "Comunidades encontradas: FitnessResult(min=0.0, max=2.7582019610053037e-05, score=1.69080850681107e-08, std=5.204826670471932e-07)\n"
     ]
    }
   ],
   "source": [
    "print('Comunidades encontradas:', evaluation.cut_ratio(G, comms_louvain))"
   ]
  },
  {
   "cell_type": "code",
   "execution_count": null,
   "id": "b352c828-22e4-4f5a-892f-af938f74486d",
   "metadata": {
    "id": "b352c828-22e4-4f5a-892f-af938f74486d"
   },
   "outputs": [],
   "source": []
  },
  {
   "cell_type": "markdown",
   "id": "f9457142-8d37-4cd7-b7c4-91d1a13de644",
   "metadata": {
    "id": "f9457142-8d37-4cd7-b7c4-91d1a13de644"
   },
   "source": [
    "#### Variar Resolución"
   ]
  },
  {
   "cell_type": "markdown",
   "id": "e8dc5690-e46d-404a-83a3-d4be6a51354d",
   "metadata": {
    "id": "e8dc5690-e46d-404a-83a3-d4be6a51354d"
   },
   "source": [
    "Tener cuidado al correr, dura media hora aproximadamente."
   ]
  },
  {
   "cell_type": "code",
   "execution_count": null,
   "id": "6ce35fe1-a722-48c0-a238-956fbd60ed21",
   "metadata": {
    "id": "6ce35fe1-a722-48c0-a238-956fbd60ed21",
    "outputId": "a31c6cfe-49aa-435c-b1e6-9609f39c36c6"
   },
   "outputs": [
    {
     "data": {
      "text/plain": [
       "<AxesSubplot:xlabel='Resolution', ylabel='Q'>"
      ]
     },
     "execution_count": 36,
     "metadata": {},
     "output_type": "execute_result"
    },
    {
     "data": {
      "image/png": "[encoded data removed]",
      "text/plain": [
       "<Figure size 864x360 with 1 Axes>"
      ]
     },
     "metadata": {},
     "output_type": "display_data"
    }
   ],
   "source": [
    "plot_louvain(G, min_res=0.01, max_res=10, samples=50, logspace=True)"
   ]
  },
  {
   "cell_type": "markdown",
   "id": "dd2a752d-95bf-467b-b075-777b8f1e1bb3",
   "metadata": {
    "id": "dd2a752d-95bf-467b-b075-777b8f1e1bb3"
   },
   "source": [
    "En el gráfico anterior, podemos observar 50 muestras de resoluciones que van desde el 0.01 hasta el 10. Los mejores resultados en la modularidad fueron los que se encuentran cerca de 1."
   ]
  },
  {
   "cell_type": "markdown",
   "id": "805c5a40-8566-48d1-a54f-d861ba894b3b",
   "metadata": {
    "id": "805c5a40-8566-48d1-a54f-d861ba894b3b"
   },
   "source": [
    "#### Algoritmo de Leiden"
   ]
  },
  {
   "cell_type": "markdown",
   "id": "ROANlAftv73t",
   "metadata": {
    "id": "ROANlAftv73t"
   },
   "source": [
    "El algoritmo de Leiden es una mejora del algoritmo de Louvain. El algoritmo de Leiden consta de tres fases:\n",
    "1. Desplazamiento local de los nodos\n",
    "2. Refinamiento de la partición.\n",
    "3. Agregación de la red basada en la partición refinada, utilizando la partición no refinada para crear una partición inicial para la red agregada.\n",
    "\n",
    "El algorítmo de Leiden soporta grafos de tipo unidireccional.\n",
    "\n",
    "Fuente: [Algoritmo Leiden](https://cdlib.readthedocs.io/en/latest/reference/cd_algorithms/algs/cdlib.algorithms.leiden.html)"
   ]
  },
  {
   "cell_type": "code",
   "execution_count": 44,
   "id": "f6b55790-781b-4a8a-9077-860e634ff41d",
   "metadata": {},
   "outputs": [],
   "source": [
    "comms_leiden = algorithms.leiden(G)"
   ]
  },
  {
   "cell_type": "code",
   "execution_count": 45,
   "id": "b63237c9-c538-4cc8-8596-90f4ba0b051c",
   "metadata": {
    "id": "b63237c9-c538-4cc8-8596-90f4ba0b051c",
    "outputId": "1a085674-7f48-4868-8719-9180d601e91b",
    "tags": []
   },
   "outputs": [],
   "source": [
    "ncomms_leiden = len(comms_leiden.communities)\n",
    "Q = evaluation.newman_girvan_modularity(G, comms_leiden).score"
   ]
  },
  {
   "cell_type": "code",
   "execution_count": 46,
   "id": "54b94cbd-309a-43ff-a741-d941ab6266b8",
   "metadata": {
    "id": "54b94cbd-309a-43ff-a741-d941ab6266b8"
   },
   "outputs": [
    {
     "name": "stdout",
     "output_type": "stream",
     "text": [
      "Cantidad de comunidades: 26527\n",
      "Modularidad: 0.5866256748861248\n"
     ]
    }
   ],
   "source": [
    "print(f'Cantidad de comunidades: {ncomms_leiden}')\n",
    "print(f'Modularidad: {Q}')"
   ]
  },
  {
   "cell_type": "markdown",
   "id": "8fe1b44b-4bfd-4680-bed2-9c8b5d9d193c",
   "metadata": {
    "id": "32253123-2214-4fb1-a7ab-dbb248975221"
   },
   "source": [
    "#### Comunidades Leiden"
   ]
  },
  {
   "cell_type": "markdown",
   "id": "60d064a2-41ef-4f0e-a471-b1c2eef64be2",
   "metadata": {},
   "source": [
    "Como podemos ver, tenemos muchas comunidades, las cuales insertaremos en un dataframe de Pandas para poder tratarlo."
   ]
  },
  {
   "cell_type": "code",
   "execution_count": 86,
   "id": "caa7e807-3cc8-4cf4-8bb4-0702c9f8f755",
   "metadata": {},
   "outputs": [
    {
     "data": {
      "text/html": [
       "<div>\n",
       "<style scoped>\n",
       "    .dataframe tbody tr th:only-of-type {\n",
       "        vertical-align: middle;\n",
       "    }\n",
       "\n",
       "    .dataframe tbody tr th {\n",
       "        vertical-align: top;\n",
       "    }\n",
       "\n",
       "    .dataframe thead th {\n",
       "        text-align: right;\n",
       "    }\n",
       "</style>\n",
       "<table border=\"1\" class=\"dataframe\">\n",
       "  <thead>\n",
       "    <tr style=\"text-align: right;\">\n",
       "      <th></th>\n",
       "      <th>ncomms</th>\n",
       "      <th>size</th>\n",
       "      <th>users</th>\n",
       "    </tr>\n",
       "  </thead>\n",
       "  <tbody>\n",
       "    <tr>\n",
       "      <th>0</th>\n",
       "      <td>0</td>\n",
       "      <td>7518</td>\n",
       "      <td>[252168075, 1285055382210125832, 470810678, 89...</td>\n",
       "    </tr>\n",
       "    <tr>\n",
       "      <th>1</th>\n",
       "      <td>1</td>\n",
       "      <td>7277</td>\n",
       "      <td>[1438195184, 73102744, 840377572038983680, 107...</td>\n",
       "    </tr>\n",
       "    <tr>\n",
       "      <th>2</th>\n",
       "      <td>2</td>\n",
       "      <td>6492</td>\n",
       "      <td>[2737379453, 484349869, 1297307280938065921, 9...</td>\n",
       "    </tr>\n",
       "    <tr>\n",
       "      <th>3</th>\n",
       "      <td>3</td>\n",
       "      <td>4477</td>\n",
       "      <td>[10427162, 984448926395793408, 1348193396, 715...</td>\n",
       "    </tr>\n",
       "    <tr>\n",
       "      <th>4</th>\n",
       "      <td>4</td>\n",
       "      <td>3767</td>\n",
       "      <td>[1433751968, 726631311771852804, 370869182, 21...</td>\n",
       "    </tr>\n",
       "    <tr>\n",
       "      <th>5</th>\n",
       "      <td>5</td>\n",
       "      <td>3421</td>\n",
       "      <td>[442142518, 71906128, 125077217, 319802534, 33...</td>\n",
       "    </tr>\n",
       "    <tr>\n",
       "      <th>6</th>\n",
       "      <td>6</td>\n",
       "      <td>3377</td>\n",
       "      <td>[151929451, 311157527, 1089559024620789762, 90...</td>\n",
       "    </tr>\n",
       "    <tr>\n",
       "      <th>7</th>\n",
       "      <td>7</td>\n",
       "      <td>565</td>\n",
       "      <td>[180406199, 1138390137673572353, 109320308, 12...</td>\n",
       "    </tr>\n",
       "    <tr>\n",
       "      <th>8</th>\n",
       "      <td>8</td>\n",
       "      <td>480</td>\n",
       "      <td>[546205762, 1225934818745167873, 1304123372704...</td>\n",
       "    </tr>\n",
       "    <tr>\n",
       "      <th>9</th>\n",
       "      <td>9</td>\n",
       "      <td>234</td>\n",
       "      <td>[2216772987, 4197549682, 789084316068356096, 9...</td>\n",
       "    </tr>\n",
       "    <tr>\n",
       "      <th>10</th>\n",
       "      <td>10</td>\n",
       "      <td>212</td>\n",
       "      <td>[75740259, 853527444, 855071173725630464, 1214...</td>\n",
       "    </tr>\n",
       "    <tr>\n",
       "      <th>11</th>\n",
       "      <td>11</td>\n",
       "      <td>187</td>\n",
       "      <td>[167939347, 1011430309, 175185277, 1012274454,...</td>\n",
       "    </tr>\n",
       "    <tr>\n",
       "      <th>12</th>\n",
       "      <td>12</td>\n",
       "      <td>149</td>\n",
       "      <td>[4816742939, 1298642165590118401, 123973877575...</td>\n",
       "    </tr>\n",
       "    <tr>\n",
       "      <th>13</th>\n",
       "      <td>13</td>\n",
       "      <td>140</td>\n",
       "      <td>[1559568230, 955125798750564357, 173211474, 36...</td>\n",
       "    </tr>\n",
       "    <tr>\n",
       "      <th>14</th>\n",
       "      <td>14</td>\n",
       "      <td>106</td>\n",
       "      <td>[928430276224659456, 954663943464718336, 15075...</td>\n",
       "    </tr>\n",
       "    <tr>\n",
       "      <th>15</th>\n",
       "      <td>15</td>\n",
       "      <td>87</td>\n",
       "      <td>[416876488, 1195010655021084675, 131042590, 22...</td>\n",
       "    </tr>\n",
       "    <tr>\n",
       "      <th>16</th>\n",
       "      <td>16</td>\n",
       "      <td>75</td>\n",
       "      <td>[476052368, 252797422, 2714698812, 12071211702...</td>\n",
       "    </tr>\n",
       "    <tr>\n",
       "      <th>17</th>\n",
       "      <td>17</td>\n",
       "      <td>46</td>\n",
       "      <td>[1198576736457445376, 999488046838972416, 1868...</td>\n",
       "    </tr>\n",
       "    <tr>\n",
       "      <th>18</th>\n",
       "      <td>18</td>\n",
       "      <td>44</td>\n",
       "      <td>[389131552, 515688516, 1468356433, 3363558297,...</td>\n",
       "    </tr>\n",
       "    <tr>\n",
       "      <th>19</th>\n",
       "      <td>19</td>\n",
       "      <td>32</td>\n",
       "      <td>[493703013, 997543109264277504, 3904603756, 99...</td>\n",
       "    </tr>\n",
       "  </tbody>\n",
       "</table>\n",
       "</div>"
      ],
      "text/plain": [
       "    ncomms  size                                              users\n",
       "0        0  7518  [252168075, 1285055382210125832, 470810678, 89...\n",
       "1        1  7277  [1438195184, 73102744, 840377572038983680, 107...\n",
       "2        2  6492  [2737379453, 484349869, 1297307280938065921, 9...\n",
       "3        3  4477  [10427162, 984448926395793408, 1348193396, 715...\n",
       "4        4  3767  [1433751968, 726631311771852804, 370869182, 21...\n",
       "5        5  3421  [442142518, 71906128, 125077217, 319802534, 33...\n",
       "6        6  3377  [151929451, 311157527, 1089559024620789762, 90...\n",
       "7        7   565  [180406199, 1138390137673572353, 109320308, 12...\n",
       "8        8   480  [546205762, 1225934818745167873, 1304123372704...\n",
       "9        9   234  [2216772987, 4197549682, 789084316068356096, 9...\n",
       "10      10   212  [75740259, 853527444, 855071173725630464, 1214...\n",
       "11      11   187  [167939347, 1011430309, 175185277, 1012274454,...\n",
       "12      12   149  [4816742939, 1298642165590118401, 123973877575...\n",
       "13      13   140  [1559568230, 955125798750564357, 173211474, 36...\n",
       "14      14   106  [928430276224659456, 954663943464718336, 15075...\n",
       "15      15    87  [416876488, 1195010655021084675, 131042590, 22...\n",
       "16      16    75  [476052368, 252797422, 2714698812, 12071211702...\n",
       "17      17    46  [1198576736457445376, 999488046838972416, 1868...\n",
       "18      18    44  [389131552, 515688516, 1468356433, 3363558297,...\n",
       "19      19    32  [493703013, 997543109264277504, 3904603756, 99..."
      ]
     },
     "execution_count": 86,
     "metadata": {},
     "output_type": "execute_result"
    }
   ],
   "source": [
    "dict_comms = {'ncomms': np.arange(len(comms_leiden.communities)),\n",
    "              'size': [len(x) for x in comms_leiden.communities],\n",
    "              'users': [x for x in comms_leiden.communities]\n",
    "             }\n",
    "\n",
    "df_comms_leiden = pd.DataFrame(dict_comms).sort_values(by=['size'], ascending=False)\n",
    "df_comms_leiden.head(20)"
   ]
  },
  {
   "cell_type": "code",
   "execution_count": 87,
   "id": "c4197837-d18c-44a0-bad1-296ad0dfb147",
   "metadata": {},
   "outputs": [
    {
     "data": {
      "text/html": [
       "<div>\n",
       "<style scoped>\n",
       "    .dataframe tbody tr th:only-of-type {\n",
       "        vertical-align: middle;\n",
       "    }\n",
       "\n",
       "    .dataframe tbody tr th {\n",
       "        vertical-align: top;\n",
       "    }\n",
       "\n",
       "    .dataframe thead th {\n",
       "        text-align: right;\n",
       "    }\n",
       "</style>\n",
       "<table border=\"1\" class=\"dataframe\">\n",
       "  <thead>\n",
       "    <tr style=\"text-align: right;\">\n",
       "      <th></th>\n",
       "      <th>ncomms</th>\n",
       "      <th>size</th>\n",
       "    </tr>\n",
       "  </thead>\n",
       "  <tbody>\n",
       "    <tr>\n",
       "      <th>count</th>\n",
       "      <td>26527.000000</td>\n",
       "      <td>26527.000000</td>\n",
       "    </tr>\n",
       "    <tr>\n",
       "      <th>mean</th>\n",
       "      <td>13263.000000</td>\n",
       "      <td>2.485543</td>\n",
       "    </tr>\n",
       "    <tr>\n",
       "      <th>std</th>\n",
       "      <td>7657.829632</td>\n",
       "      <td>88.888743</td>\n",
       "    </tr>\n",
       "    <tr>\n",
       "      <th>min</th>\n",
       "      <td>0.000000</td>\n",
       "      <td>1.000000</td>\n",
       "    </tr>\n",
       "    <tr>\n",
       "      <th>25%</th>\n",
       "      <td>6631.500000</td>\n",
       "      <td>1.000000</td>\n",
       "    </tr>\n",
       "    <tr>\n",
       "      <th>50%</th>\n",
       "      <td>13263.000000</td>\n",
       "      <td>1.000000</td>\n",
       "    </tr>\n",
       "    <tr>\n",
       "      <th>75%</th>\n",
       "      <td>19894.500000</td>\n",
       "      <td>1.000000</td>\n",
       "    </tr>\n",
       "    <tr>\n",
       "      <th>max</th>\n",
       "      <td>26526.000000</td>\n",
       "      <td>7518.000000</td>\n",
       "    </tr>\n",
       "  </tbody>\n",
       "</table>\n",
       "</div>"
      ],
      "text/plain": [
       "             ncomms          size\n",
       "count  26527.000000  26527.000000\n",
       "mean   13263.000000      2.485543\n",
       "std     7657.829632     88.888743\n",
       "min        0.000000      1.000000\n",
       "25%     6631.500000      1.000000\n",
       "50%    13263.000000      1.000000\n",
       "75%    19894.500000      1.000000\n",
       "max    26526.000000   7518.000000"
      ]
     },
     "execution_count": 87,
     "metadata": {},
     "output_type": "execute_result"
    }
   ],
   "source": [
    "df_comms_leiden.describe()"
   ]
  },
  {
   "cell_type": "markdown",
   "id": "13af44ab-26cb-42b2-bc86-8d630e409b61",
   "metadata": {},
   "source": [
    "Podemos ver que Leiden se comporta de manera similar a Louvain."
   ]
  },
  {
   "cell_type": "code",
   "execution_count": 49,
   "id": "b8d61edf-65f2-4357-889c-6d8e2cc51833",
   "metadata": {
    "colab": {
     "base_uri": "https://localhost:8080/",
     "height": 430
    },
    "id": "704636f5-18f8-4fd0-ade7-a9cb22e221df",
    "outputId": "de5e3724-b28a-45a5-e779-1c1c3ec68f92"
   },
   "outputs": [
    {
     "data": {
      "image/png": "[encoded data removed]",
      "text/plain": [
       "<Figure size 1008x1008 with 2 Axes>"
      ]
     },
     "metadata": {},
     "output_type": "display_data"
    }
   ],
   "source": [
    "fig, ax = plt.subplots(2,1,figsize=(14,14))\n",
    "sns.barplot(data=df_comms_louvain[:30],x='ncomms', y='size', palette='crest', ax=ax[0])\n",
    "sns.barplot(data=df_comms_leiden[:30],x='ncomms', y='size', palette='flare', ax=ax[1])\n",
    "ax[0].set_title('Comunidades Encontradas con Louvain', fontsize=16)\n",
    "ax[1].set_title('Comunidades Encontradas con Leiden', fontsize=16)\n",
    "plt.show()"
   ]
  },
  {
   "cell_type": "code",
   "execution_count": null,
   "id": "d3a9d9c2-9f0b-4202-838a-4bd60b95ce55",
   "metadata": {},
   "outputs": [],
   "source": []
  },
  {
   "cell_type": "markdown",
   "id": "796106ba-38e1-4cd8-91e9-da1c76db4d27",
   "metadata": {
    "id": "44b3f93d-b07f-4601-964f-74ebea7ab2c2"
   },
   "source": [
    "---"
   ]
  },
  {
   "cell_type": "markdown",
   "id": "7Fed6Fy2ekXL",
   "metadata": {
    "id": "7Fed6Fy2ekXL"
   },
   "source": [
    "## Segunda parte\n",
    "\n",
    "### **4. Extracción de etiquetas**\n",
    "\n",
    "En el archivo [etiquetas.csv](https://drive.google.com/file/d/1LWY3VoIRt0xKwEbbtMXYePOGZvgPsQh-/view?usp=sharing) están las etiquetas para un pequeño subconjunto de nodos. Podemos interpretar el valor de la etiqueta como la pertenencia a una determinada clase, donde los usuarios de una misma clase en general tienden a expresar apoyo entre sí.\n",
    "\n",
    "- Determinar quiénes son los usuarios referentes de cada clase (utilizar alguna medida de centralidad calculada sobre el grafo de retweets).\n",
    "- Utiliando los resultados del práctico anterior, determinar si los usuarios de cada clase forman parte de distintas comunidades.\n",
    "\n",
    "**Opcional:** Reconstruir el archivo \"etiquetas.csv\". Para eso, hacer lo siguiente\n",
    "\n",
    "- Construir un grafo en donde los nodos sean usuarios, y donde los enlaces unan dos nodos si entre ellos hubo más respuestas de apoyo que de oposición.\n",
    "- Extraer las dos componentes más grandes del grafo. Esos serán nuestros nodos etiquetados."
   ]
  },
  {
   "cell_type": "code",
   "execution_count": 25,
   "id": "579fea97-d83d-43f1-a63e-4694ffdbec95",
   "metadata": {},
   "outputs": [
    {
     "data": {
      "text/html": [
       "<div>\n",
       "<style scoped>\n",
       "    .dataframe tbody tr th:only-of-type {\n",
       "        vertical-align: middle;\n",
       "    }\n",
       "\n",
       "    .dataframe tbody tr th {\n",
       "        vertical-align: top;\n",
       "    }\n",
       "\n",
       "    .dataframe thead th {\n",
       "        text-align: right;\n",
       "    }\n",
       "</style>\n",
       "<table border=\"1\" class=\"dataframe\">\n",
       "  <thead>\n",
       "    <tr style=\"text-align: right;\">\n",
       "      <th></th>\n",
       "      <th>user.id</th>\n",
       "      <th>Clase</th>\n",
       "    </tr>\n",
       "  </thead>\n",
       "  <tbody>\n",
       "    <tr>\n",
       "      <th>0</th>\n",
       "      <td>1227432088925851650</td>\n",
       "      <td>0</td>\n",
       "    </tr>\n",
       "    <tr>\n",
       "      <th>1</th>\n",
       "      <td>1148843472</td>\n",
       "      <td>0</td>\n",
       "    </tr>\n",
       "    <tr>\n",
       "      <th>2</th>\n",
       "      <td>1329815581302853632</td>\n",
       "      <td>0</td>\n",
       "    </tr>\n",
       "    <tr>\n",
       "      <th>3</th>\n",
       "      <td>131669966</td>\n",
       "      <td>0</td>\n",
       "    </tr>\n",
       "    <tr>\n",
       "      <th>4</th>\n",
       "      <td>811607948</td>\n",
       "      <td>0</td>\n",
       "    </tr>\n",
       "  </tbody>\n",
       "</table>\n",
       "</div>"
      ],
      "text/plain": [
       "               user.id  Clase\n",
       "0  1227432088925851650      0\n",
       "1           1148843472      0\n",
       "2  1329815581302853632      0\n",
       "3            131669966      0\n",
       "4            811607948      0"
      ]
     },
     "execution_count": 25,
     "metadata": {},
     "output_type": "execute_result"
    }
   ],
   "source": [
    "df_targets = pd.read_csv(DATA_DIR / 'etiquetas.csv', dtype=dtypes)\n",
    "df_targets.head()"
   ]
  },
  {
   "cell_type": "code",
   "execution_count": 26,
   "id": "78c80213-5de5-4036-94be-30293514fdf6",
   "metadata": {},
   "outputs": [
    {
     "data": {
      "text/plain": [
       "(196, 2)"
      ]
     },
     "execution_count": 26,
     "metadata": {},
     "output_type": "execute_result"
    }
   ],
   "source": [
    "df_targets.shape"
   ]
  },
  {
   "cell_type": "code",
   "execution_count": 27,
   "id": "44c251cc-028e-4d3c-abe0-02470a4a99d1",
   "metadata": {},
   "outputs": [
    {
     "ename": "NameError",
     "evalue": "name 'df_medidas' is not defined",
     "output_type": "error",
     "traceback": [
      "\u001b[1;31m---------------------------------------------------------------------------\u001b[0m",
      "\u001b[1;31mNameError\u001b[0m                                 Traceback (most recent call last)",
      "\u001b[1;32m~\\AppData\\Local\\Temp/ipykernel_13864/175699244.py\u001b[0m in \u001b[0;36m<module>\u001b[1;34m\u001b[0m\n\u001b[1;32m----> 1\u001b[1;33m \u001b[0mdf_tw_sent\u001b[0m \u001b[1;33m=\u001b[0m \u001b[0mdf_medidas\u001b[0m\u001b[1;33m.\u001b[0m\u001b[0mreset_index\u001b[0m\u001b[1;33m(\u001b[0m\u001b[1;33m)\u001b[0m\u001b[1;33m.\u001b[0m\u001b[0mmerge\u001b[0m\u001b[1;33m(\u001b[0m\u001b[0mdf_targets\u001b[0m\u001b[1;33m,\u001b[0m \u001b[0mleft_on\u001b[0m\u001b[1;33m=\u001b[0m\u001b[1;34m'index'\u001b[0m\u001b[1;33m,\u001b[0m \u001b[0mright_on\u001b[0m\u001b[1;33m=\u001b[0m\u001b[1;34m'user.id'\u001b[0m\u001b[1;33m)\u001b[0m\u001b[1;33m.\u001b[0m\u001b[0mdrop\u001b[0m\u001b[1;33m(\u001b[0m\u001b[0mcolumns\u001b[0m\u001b[1;33m=\u001b[0m\u001b[1;33m[\u001b[0m\u001b[1;34m'user.id'\u001b[0m\u001b[1;33m]\u001b[0m\u001b[1;33m)\u001b[0m\u001b[1;33m\u001b[0m\u001b[1;33m\u001b[0m\u001b[0m\n\u001b[0m\u001b[0;32m      2\u001b[0m \u001b[0mdf_tw_sent\u001b[0m\u001b[1;33m.\u001b[0m\u001b[0mrename\u001b[0m\u001b[1;33m(\u001b[0m\u001b[0mcolumns\u001b[0m\u001b[1;33m=\u001b[0m\u001b[1;33m{\u001b[0m\u001b[1;34m'index'\u001b[0m\u001b[1;33m:\u001b[0m \u001b[1;34m'user'\u001b[0m\u001b[1;33m}\u001b[0m\u001b[1;33m,\u001b[0m \u001b[0minplace\u001b[0m\u001b[1;33m=\u001b[0m\u001b[1;32mTrue\u001b[0m\u001b[1;33m)\u001b[0m\u001b[1;33m\u001b[0m\u001b[1;33m\u001b[0m\u001b[0m\n\u001b[0;32m      3\u001b[0m \u001b[0mprint\u001b[0m\u001b[1;33m(\u001b[0m\u001b[1;34mf'Dimensionalidad: {df_tw_sent.shape}'\u001b[0m\u001b[1;33m)\u001b[0m\u001b[1;33m\u001b[0m\u001b[1;33m\u001b[0m\u001b[0m\n\u001b[0;32m      4\u001b[0m \u001b[0mdf_tw_sent\u001b[0m\u001b[1;33m.\u001b[0m\u001b[0mhead\u001b[0m\u001b[1;33m(\u001b[0m\u001b[1;33m)\u001b[0m\u001b[1;33m\u001b[0m\u001b[1;33m\u001b[0m\u001b[0m\n",
      "\u001b[1;31mNameError\u001b[0m: name 'df_medidas' is not defined"
     ]
    }
   ],
   "source": [
    "df_tw_sent = df_medidas.reset_index().merge(df_targets, left_on='index', right_on='user.id').drop(columns=['user.id'])\n",
    "df_tw_sent.rename(columns={'index': 'user'}, inplace=True)\n",
    "print(f'Dimensionalidad: {df_tw_sent.shape}')\n",
    "df_tw_sent.head()"
   ]
  },
  {
   "cell_type": "markdown",
   "id": "0f8e7c89-56f4-45cc-aadd-c25cebc1a13c",
   "metadata": {},
   "source": [
    "#### Usuarios referentes de cada clase"
   ]
  },
  {
   "cell_type": "markdown",
   "id": "edf1cafe-0e90-4689-933d-e004eceeeff8",
   "metadata": {},
   "source": [
    "Clase 0"
   ]
  },
  {
   "cell_type": "code",
   "execution_count": null,
   "id": "592e519f-5435-4790-b138-982521da71f6",
   "metadata": {},
   "outputs": [],
   "source": [
    "columns = ['degree', 'betweenness', 'eigenvector', 'pagerank', 'closeness']\n",
    "data = {}\n",
    "for col in columns:\n",
    "    top_rtw = df_tw_sent[df_tw_sent.Clase==0].nlargest(10, columns=[col])['user'].tolist()  #top 5 de las medidas de centralidad, buscamos el dato mas repetido \n",
    "    data[col] = top_rtw\n",
    "pd.DataFrame(data)"
   ]
  },
  {
   "cell_type": "code",
   "execution_count": null,
   "id": "4a680c4f-4c14-4505-945d-b19f3a780ba9",
   "metadata": {},
   "outputs": [],
   "source": [
    "df[df['user.id'].isin(['252168075','510740590'])]"
   ]
  },
  {
   "cell_type": "markdown",
   "id": "fa421921-3167-4595-8e5a-06cfa6c06b24",
   "metadata": {},
   "source": [
    "---\n",
    "Conclusión (Clase 0)\n",
    "\n",
    "Podemos tomar dos referentes principales que mejor se posicionan en nuestras medidas de centralidad. \\\n",
    "Estos usuarios son:\n",
    "* 252168075\n",
    "* 510740590\n",
    "---"
   ]
  },
  {
   "cell_type": "markdown",
   "id": "e1cee4fb-7e82-4b36-bfe5-e3c9cd5f4edb",
   "metadata": {},
   "source": [
    "Clase 1"
   ]
  },
  {
   "cell_type": "code",
   "execution_count": null,
   "id": "d8d91f7c-6fa1-4810-899d-da6e8efea2ba",
   "metadata": {},
   "outputs": [],
   "source": [
    "columns = ['degree', 'betweenness', 'eigenvector', 'pagerank', 'closeness']\n",
    "data = {}\n",
    "for col in columns:\n",
    "    top_rtw = df_tw_sent[df_tw_sent.Clase==1].nlargest(10, columns=[col])['user'].tolist()  #top 5 de las medidas de centralidad, buscamos el dato mas repetido \n",
    "    data[col] = top_rtw\n",
    "pd.DataFrame(data)"
   ]
  },
  {
   "cell_type": "markdown",
   "id": "4b050ea0-b76d-4aee-bc07-5afef9e47a2c",
   "metadata": {},
   "source": [
    "---\n",
    "Conclusión (Clase 1)\n",
    "\n",
    "Aquí los tops obtenidos para los referentes en cada medida de centralidad variada por lo cual, tomaremos el top 1 de las medidas de degree, betweennes y closeness, y veremos dónde se repite ese usuario. \\\n",
    "Los usuarios son:\n",
    "* 73102744: Con mayor degree, pero en betweenness tiene la 5ta posición y en closeness tiene la 4ta. Esto quiere decir, que por más que tenga un grado alto de conexión, no es el nodo recurrente por el que pasan los demás, y en promedio queda cuarto en ser el nodo con distancias a todos los demás.\n",
    "* 3421061763: Es el nodo recurrente por el que el resto de los demás nodos con clase 1 pasan, más allá que sea 4to en degree y queda 3ro en los nodos con distancia promedio a las demás.\n",
    "* 206371045: 9no en degree, es decir, conexiones. Termina siendo tercero en la medida de betweenness y es el primero en distancia promedio respecto a los demás.\n",
    "---"
   ]
  },
  {
   "cell_type": "markdown",
   "id": "60393ae1-68a9-4ef8-be35-03960ebeb0db",
   "metadata": {},
   "source": [
    "#### Determinar si los usuarios de cada clase forman parte de distintas comunidades"
   ]
  },
  {
   "cell_type": "code",
   "execution_count": 85,
   "id": "e6e15705-60af-47f1-ae46-57f17685d92f",
   "metadata": {},
   "outputs": [
    {
     "data": {
      "text/plain": [
       "107"
      ]
     },
     "execution_count": 85,
     "metadata": {},
     "output_type": "execute_result"
    }
   ],
   "source": [
    "len(df_tw_sent[df_tw_sent.Clase==0].user.unique())"
   ]
  },
  {
   "cell_type": "code",
   "execution_count": 98,
   "id": "41026573-7c98-46f7-9cad-02d8cd4d2174",
   "metadata": {
    "tags": []
   },
   "outputs": [],
   "source": [
    "users_C0 = df_tw_sent[df_tw_sent.Clase==0].user.unique()\n",
    "users_C1 = df_tw_sent[df_tw_sent.Clase==1].user.unique()\n",
    "\n",
    "dict_user_comm = {'user': [],\n",
    "                  'comm': [],\n",
    "                  'clase': []\n",
    "                 }\n",
    "\n",
    "for index, row in df_comms_louvain.iterrows():\n",
    "    for i in users_C0:\n",
    "        if i in row['users']:\n",
    "            dict_user_comm['user'].append(i)\n",
    "            dict_user_comm['comm'].append(row['ncomms'])\n",
    "            dict_user_comm['clase'].append(0)\n",
    "\n",
    "for index, row in df_comms_louvain.iterrows():\n",
    "    for i in users_C1:\n",
    "        if i in row['users']:\n",
    "            dict_user_comm['user'].append(i)\n",
    "            dict_user_comm['comm'].append(row['ncomms'])\n",
    "            dict_user_comm['clase'].append(1)"
   ]
  },
  {
   "cell_type": "code",
   "execution_count": 100,
   "id": "f77338f2-4220-4964-9cb0-e0a7943098bb",
   "metadata": {},
   "outputs": [],
   "source": [
    "df_user_comm_clase = pd.DataFrame(dict_user_comm)"
   ]
  },
  {
   "cell_type": "code",
   "execution_count": 111,
   "id": "3f99f8fc-e705-400e-81f2-11735fad3039",
   "metadata": {},
   "outputs": [
    {
     "data": {
      "text/html": [
       "<div>\n",
       "<style scoped>\n",
       "    .dataframe tbody tr th:only-of-type {\n",
       "        vertical-align: middle;\n",
       "    }\n",
       "\n",
       "    .dataframe tbody tr th {\n",
       "        vertical-align: top;\n",
       "    }\n",
       "\n",
       "    .dataframe thead th {\n",
       "        text-align: right;\n",
       "    }\n",
       "</style>\n",
       "<table border=\"1\" class=\"dataframe\">\n",
       "  <thead>\n",
       "    <tr style=\"text-align: right;\">\n",
       "      <th></th>\n",
       "      <th>clase</th>\n",
       "      <th>comm</th>\n",
       "      <th>0</th>\n",
       "    </tr>\n",
       "  </thead>\n",
       "  <tbody>\n",
       "    <tr>\n",
       "      <th>0</th>\n",
       "      <td>0</td>\n",
       "      <td>1</td>\n",
       "      <td>67</td>\n",
       "    </tr>\n",
       "    <tr>\n",
       "      <th>1</th>\n",
       "      <td>0</td>\n",
       "      <td>2</td>\n",
       "      <td>17</td>\n",
       "    </tr>\n",
       "    <tr>\n",
       "      <th>2</th>\n",
       "      <td>0</td>\n",
       "      <td>8323</td>\n",
       "      <td>1</td>\n",
       "    </tr>\n",
       "    <tr>\n",
       "      <th>3</th>\n",
       "      <td>0</td>\n",
       "      <td>23610</td>\n",
       "      <td>1</td>\n",
       "    </tr>\n",
       "    <tr>\n",
       "      <th>4</th>\n",
       "      <td>0</td>\n",
       "      <td>21524</td>\n",
       "      <td>1</td>\n",
       "    </tr>\n",
       "    <tr>\n",
       "      <th>5</th>\n",
       "      <td>0</td>\n",
       "      <td>20550</td>\n",
       "      <td>1</td>\n",
       "    </tr>\n",
       "    <tr>\n",
       "      <th>6</th>\n",
       "      <td>0</td>\n",
       "      <td>18873</td>\n",
       "      <td>1</td>\n",
       "    </tr>\n",
       "    <tr>\n",
       "      <th>7</th>\n",
       "      <td>0</td>\n",
       "      <td>17394</td>\n",
       "      <td>1</td>\n",
       "    </tr>\n",
       "    <tr>\n",
       "      <th>8</th>\n",
       "      <td>0</td>\n",
       "      <td>14530</td>\n",
       "      <td>1</td>\n",
       "    </tr>\n",
       "    <tr>\n",
       "      <th>9</th>\n",
       "      <td>0</td>\n",
       "      <td>14449</td>\n",
       "      <td>1</td>\n",
       "    </tr>\n",
       "    <tr>\n",
       "      <th>10</th>\n",
       "      <td>0</td>\n",
       "      <td>10854</td>\n",
       "      <td>1</td>\n",
       "    </tr>\n",
       "    <tr>\n",
       "      <th>11</th>\n",
       "      <td>0</td>\n",
       "      <td>9590</td>\n",
       "      <td>1</td>\n",
       "    </tr>\n",
       "    <tr>\n",
       "      <th>12</th>\n",
       "      <td>0</td>\n",
       "      <td>9575</td>\n",
       "      <td>1</td>\n",
       "    </tr>\n",
       "    <tr>\n",
       "      <th>13</th>\n",
       "      <td>0</td>\n",
       "      <td>5977</td>\n",
       "      <td>1</td>\n",
       "    </tr>\n",
       "    <tr>\n",
       "      <th>14</th>\n",
       "      <td>0</td>\n",
       "      <td>5969</td>\n",
       "      <td>1</td>\n",
       "    </tr>\n",
       "    <tr>\n",
       "      <th>15</th>\n",
       "      <td>0</td>\n",
       "      <td>4201</td>\n",
       "      <td>1</td>\n",
       "    </tr>\n",
       "    <tr>\n",
       "      <th>16</th>\n",
       "      <td>0</td>\n",
       "      <td>3622</td>\n",
       "      <td>1</td>\n",
       "    </tr>\n",
       "    <tr>\n",
       "      <th>17</th>\n",
       "      <td>0</td>\n",
       "      <td>3037</td>\n",
       "      <td>1</td>\n",
       "    </tr>\n",
       "    <tr>\n",
       "      <th>18</th>\n",
       "      <td>0</td>\n",
       "      <td>1569</td>\n",
       "      <td>1</td>\n",
       "    </tr>\n",
       "    <tr>\n",
       "      <th>19</th>\n",
       "      <td>0</td>\n",
       "      <td>877</td>\n",
       "      <td>1</td>\n",
       "    </tr>\n",
       "    <tr>\n",
       "      <th>20</th>\n",
       "      <td>0</td>\n",
       "      <td>442</td>\n",
       "      <td>1</td>\n",
       "    </tr>\n",
       "    <tr>\n",
       "      <th>21</th>\n",
       "      <td>0</td>\n",
       "      <td>436</td>\n",
       "      <td>1</td>\n",
       "    </tr>\n",
       "    <tr>\n",
       "      <th>22</th>\n",
       "      <td>0</td>\n",
       "      <td>427</td>\n",
       "      <td>1</td>\n",
       "    </tr>\n",
       "    <tr>\n",
       "      <th>23</th>\n",
       "      <td>0</td>\n",
       "      <td>305</td>\n",
       "      <td>1</td>\n",
       "    </tr>\n",
       "    <tr>\n",
       "      <th>24</th>\n",
       "      <td>0</td>\n",
       "      <td>25454</td>\n",
       "      <td>1</td>\n",
       "    </tr>\n",
       "  </tbody>\n",
       "</table>\n",
       "</div>"
      ],
      "text/plain": [
       "    clase   comm   0\n",
       "0       0      1  67\n",
       "1       0      2  17\n",
       "2       0   8323   1\n",
       "3       0  23610   1\n",
       "4       0  21524   1\n",
       "5       0  20550   1\n",
       "6       0  18873   1\n",
       "7       0  17394   1\n",
       "8       0  14530   1\n",
       "9       0  14449   1\n",
       "10      0  10854   1\n",
       "11      0   9590   1\n",
       "12      0   9575   1\n",
       "13      0   5977   1\n",
       "14      0   5969   1\n",
       "15      0   4201   1\n",
       "16      0   3622   1\n",
       "17      0   3037   1\n",
       "18      0   1569   1\n",
       "19      0    877   1\n",
       "20      0    442   1\n",
       "21      0    436   1\n",
       "22      0    427   1\n",
       "23      0    305   1\n",
       "24      0  25454   1"
      ]
     },
     "execution_count": 111,
     "metadata": {},
     "output_type": "execute_result"
    }
   ],
   "source": [
    "df_user_comm_clase[df_user_comm_clase.clase==0][['clase','comm']].value_counts().to_frame().reset_index()"
   ]
  },
  {
   "cell_type": "markdown",
   "id": "5fa9d036-d04d-4199-89cd-d69fdc17eadf",
   "metadata": {},
   "source": [
    "Para la clase 0, podemos observar 25 comunidades hayadas. \\\n",
    "Esta clasificación por Louvain es bastante buena, ya que en los primeras 2 comunidades (comunidad 1 y 2), se encuentra una distribución más concentrada de usuarios."
   ]
  },
  {
   "cell_type": "code",
   "execution_count": 112,
   "id": "c5e900b5-c988-4738-b556-faadfafd6d62",
   "metadata": {},
   "outputs": [
    {
     "data": {
      "text/html": [
       "<div>\n",
       "<style scoped>\n",
       "    .dataframe tbody tr th:only-of-type {\n",
       "        vertical-align: middle;\n",
       "    }\n",
       "\n",
       "    .dataframe tbody tr th {\n",
       "        vertical-align: top;\n",
       "    }\n",
       "\n",
       "    .dataframe thead th {\n",
       "        text-align: right;\n",
       "    }\n",
       "</style>\n",
       "<table border=\"1\" class=\"dataframe\">\n",
       "  <thead>\n",
       "    <tr style=\"text-align: right;\">\n",
       "      <th></th>\n",
       "      <th>clase</th>\n",
       "      <th>comm</th>\n",
       "      <th>0</th>\n",
       "    </tr>\n",
       "  </thead>\n",
       "  <tbody>\n",
       "    <tr>\n",
       "      <th>0</th>\n",
       "      <td>1</td>\n",
       "      <td>0</td>\n",
       "      <td>52</td>\n",
       "    </tr>\n",
       "    <tr>\n",
       "      <th>1</th>\n",
       "      <td>1</td>\n",
       "      <td>3</td>\n",
       "      <td>8</td>\n",
       "    </tr>\n",
       "    <tr>\n",
       "      <th>2</th>\n",
       "      <td>1</td>\n",
       "      <td>4</td>\n",
       "      <td>3</td>\n",
       "    </tr>\n",
       "    <tr>\n",
       "      <th>3</th>\n",
       "      <td>1</td>\n",
       "      <td>5</td>\n",
       "      <td>2</td>\n",
       "    </tr>\n",
       "    <tr>\n",
       "      <th>4</th>\n",
       "      <td>1</td>\n",
       "      <td>7044</td>\n",
       "      <td>1</td>\n",
       "    </tr>\n",
       "    <tr>\n",
       "      <th>5</th>\n",
       "      <td>1</td>\n",
       "      <td>22199</td>\n",
       "      <td>1</td>\n",
       "    </tr>\n",
       "    <tr>\n",
       "      <th>6</th>\n",
       "      <td>1</td>\n",
       "      <td>20380</td>\n",
       "      <td>1</td>\n",
       "    </tr>\n",
       "    <tr>\n",
       "      <th>7</th>\n",
       "      <td>1</td>\n",
       "      <td>17108</td>\n",
       "      <td>1</td>\n",
       "    </tr>\n",
       "    <tr>\n",
       "      <th>8</th>\n",
       "      <td>1</td>\n",
       "      <td>17101</td>\n",
       "      <td>1</td>\n",
       "    </tr>\n",
       "    <tr>\n",
       "      <th>9</th>\n",
       "      <td>1</td>\n",
       "      <td>17075</td>\n",
       "      <td>1</td>\n",
       "    </tr>\n",
       "    <tr>\n",
       "      <th>10</th>\n",
       "      <td>1</td>\n",
       "      <td>15007</td>\n",
       "      <td>1</td>\n",
       "    </tr>\n",
       "    <tr>\n",
       "      <th>11</th>\n",
       "      <td>1</td>\n",
       "      <td>10319</td>\n",
       "      <td>1</td>\n",
       "    </tr>\n",
       "    <tr>\n",
       "      <th>12</th>\n",
       "      <td>1</td>\n",
       "      <td>10136</td>\n",
       "      <td>1</td>\n",
       "    </tr>\n",
       "    <tr>\n",
       "      <th>13</th>\n",
       "      <td>1</td>\n",
       "      <td>9670</td>\n",
       "      <td>1</td>\n",
       "    </tr>\n",
       "    <tr>\n",
       "      <th>14</th>\n",
       "      <td>1</td>\n",
       "      <td>8413</td>\n",
       "      <td>1</td>\n",
       "    </tr>\n",
       "    <tr>\n",
       "      <th>15</th>\n",
       "      <td>1</td>\n",
       "      <td>5275</td>\n",
       "      <td>1</td>\n",
       "    </tr>\n",
       "    <tr>\n",
       "      <th>16</th>\n",
       "      <td>1</td>\n",
       "      <td>5378</td>\n",
       "      <td>1</td>\n",
       "    </tr>\n",
       "    <tr>\n",
       "      <th>17</th>\n",
       "      <td>1</td>\n",
       "      <td>2</td>\n",
       "      <td>1</td>\n",
       "    </tr>\n",
       "    <tr>\n",
       "      <th>18</th>\n",
       "      <td>1</td>\n",
       "      <td>4927</td>\n",
       "      <td>1</td>\n",
       "    </tr>\n",
       "    <tr>\n",
       "      <th>19</th>\n",
       "      <td>1</td>\n",
       "      <td>3893</td>\n",
       "      <td>1</td>\n",
       "    </tr>\n",
       "    <tr>\n",
       "      <th>20</th>\n",
       "      <td>1</td>\n",
       "      <td>1701</td>\n",
       "      <td>1</td>\n",
       "    </tr>\n",
       "    <tr>\n",
       "      <th>21</th>\n",
       "      <td>1</td>\n",
       "      <td>1659</td>\n",
       "      <td>1</td>\n",
       "    </tr>\n",
       "    <tr>\n",
       "      <th>22</th>\n",
       "      <td>1</td>\n",
       "      <td>1297</td>\n",
       "      <td>1</td>\n",
       "    </tr>\n",
       "    <tr>\n",
       "      <th>23</th>\n",
       "      <td>1</td>\n",
       "      <td>392</td>\n",
       "      <td>1</td>\n",
       "    </tr>\n",
       "    <tr>\n",
       "      <th>24</th>\n",
       "      <td>1</td>\n",
       "      <td>337</td>\n",
       "      <td>1</td>\n",
       "    </tr>\n",
       "    <tr>\n",
       "      <th>25</th>\n",
       "      <td>1</td>\n",
       "      <td>162</td>\n",
       "      <td>1</td>\n",
       "    </tr>\n",
       "    <tr>\n",
       "      <th>26</th>\n",
       "      <td>1</td>\n",
       "      <td>6</td>\n",
       "      <td>1</td>\n",
       "    </tr>\n",
       "    <tr>\n",
       "      <th>27</th>\n",
       "      <td>1</td>\n",
       "      <td>23949</td>\n",
       "      <td>1</td>\n",
       "    </tr>\n",
       "  </tbody>\n",
       "</table>\n",
       "</div>"
      ],
      "text/plain": [
       "    clase   comm   0\n",
       "0       1      0  52\n",
       "1       1      3   8\n",
       "2       1      4   3\n",
       "3       1      5   2\n",
       "4       1   7044   1\n",
       "5       1  22199   1\n",
       "6       1  20380   1\n",
       "7       1  17108   1\n",
       "8       1  17101   1\n",
       "9       1  17075   1\n",
       "10      1  15007   1\n",
       "11      1  10319   1\n",
       "12      1  10136   1\n",
       "13      1   9670   1\n",
       "14      1   8413   1\n",
       "15      1   5275   1\n",
       "16      1   5378   1\n",
       "17      1      2   1\n",
       "18      1   4927   1\n",
       "19      1   3893   1\n",
       "20      1   1701   1\n",
       "21      1   1659   1\n",
       "22      1   1297   1\n",
       "23      1    392   1\n",
       "24      1    337   1\n",
       "25      1    162   1\n",
       "26      1      6   1\n",
       "27      1  23949   1"
      ]
     },
     "execution_count": 112,
     "metadata": {},
     "output_type": "execute_result"
    }
   ],
   "source": [
    "df_user_comm_clase[df_user_comm_clase.clase==1][['clase','comm']].value_counts().to_frame().reset_index()"
   ]
  },
  {
   "cell_type": "markdown",
   "id": "6244e072-b6ca-424d-bc37-fb7c3c5b6e75",
   "metadata": {},
   "source": [
    "Como podemos observar, en el caso de la clase 1, se obtienen 28 comunidades diferentes. \\\n",
    "Aquí la clasificación también es bastante favorable, ya que la mayoría de usuarios de clase 1 se concentró en la comunidad 0."
   ]
  },
  {
   "cell_type": "markdown",
   "id": "84b6fb6f-1283-4e00-9079-995c2151ccc4",
   "metadata": {
    "id": "cqpXr117ftsy"
   },
   "source": [
    "---"
   ]
  },
  {
   "cell_type": "markdown",
   "id": "DqwXwNH4fQrD",
   "metadata": {
    "id": "DqwXwNH4fQrD"
   },
   "source": [
    "### **5. Embedding de nodos**\n",
    "\n",
    "- Generar un embedding del grafo de retweets utilizando el algoritmo `word2vec`.\n",
    "- Reducir a 2 la dimensionalidad del embedding utilizando [PCA](https://scikit-learn.org/stable/modules/generated/sklearn.decomposition.PCA.htmlhttps://scikit-learn.org/stable/modules/generated/sklearn.decomposition.PCA.html) y [t-SNE](https://scikit-learn.org/stable/modules/generated/sklearn.manifold.TSNE.htmlhttps://scikit-learn.org/stable/modules/generated/sklearn.manifold.TSNE.html).\n",
    "- Graficar los embeddings correspondientes a los datos etiquetados. ¿Es posible diferenciar unos de otros?\n",
    "\n",
    "**Opcional:** Graficar además los embeddings de los nodos que forman parte de las comunidades asociadas a cada clase. Determinar si el embedding permite distinguir cada comunidad."
   ]
  },
  {
   "cell_type": "markdown",
   "id": "8b7d0a92-8830-4953-b9a5-a4e52c10088e",
   "metadata": {},
   "source": [
    "Generamos un csv para ser subido a Colab y correr este punto allí"
   ]
  },
  {
   "cell_type": "code",
   "execution_count": 31,
   "id": "ed4b0ffa-0817-4834-9a97-729e3b63047f",
   "metadata": {},
   "outputs": [],
   "source": [
    "df.merge(df_targets).drop(columns=['created_at','full_text','in_reply_to_status_id','in_reply_to_user_id','sentiment']).to_csv('.\\data\\twitter\\embeding_twitter.csv')"
   ]
  },
  {
   "cell_type": "code",
   "execution_count": null,
   "id": "fb395aa1-5a6f-4601-88c5-a5516140b1fd",
   "metadata": {},
   "outputs": [],
   "source": [
    "from google.colab import files\n",
    "uploaded = files.upload()"
   ]
  },
  {
   "cell_type": "code",
   "execution_count": 3,
   "id": "a5d9a84a-6439-4b28-912f-5628b73476d2",
   "metadata": {
    "colab": {
     "base_uri": "https://localhost:8080/",
     "height": 554
    },
    "id": "e43cef47-be3b-47ba-9a07-9373013580ec",
    "outputId": "2980682a-36be-4894-845b-42667faeea8d"
   },
   "outputs": [
    {
     "name": "stdout",
     "output_type": "stream",
     "text": [
      "(155123, 8)\n"
     ]
    },
    {
     "data": {
      "text/html": [
       "<div>\n",
       "<style scoped>\n",
       "    .dataframe tbody tr th:only-of-type {\n",
       "        vertical-align: middle;\n",
       "    }\n",
       "\n",
       "    .dataframe tbody tr th {\n",
       "        vertical-align: top;\n",
       "    }\n",
       "\n",
       "    .dataframe thead th {\n",
       "        text-align: right;\n",
       "    }\n",
       "</style>\n",
       "<table border=\"1\" class=\"dataframe\">\n",
       "  <thead>\n",
       "    <tr style=\"text-align: right;\">\n",
       "      <th></th>\n",
       "      <th>created_at</th>\n",
       "      <th>id_str</th>\n",
       "      <th>full_text</th>\n",
       "      <th>in_reply_to_status_id</th>\n",
       "      <th>in_reply_to_user_id</th>\n",
       "      <th>user.id</th>\n",
       "      <th>user_retweeters</th>\n",
       "      <th>sentiment</th>\n",
       "    </tr>\n",
       "  </thead>\n",
       "  <tbody>\n",
       "    <tr>\n",
       "      <th>0</th>\n",
       "      <td>Sat Feb 20 03:09:10 +0000 2021</td>\n",
       "      <td>1362962469749153792</td>\n",
       "      <td>Seguimos esperando el comunicado de @norabar r...</td>\n",
       "      <td>NaN</td>\n",
       "      <td>NaN</td>\n",
       "      <td>2737379453</td>\n",
       "      <td>[2258074658, 159909978, 105301854, 290671142, ...</td>\n",
       "      <td>NaN</td>\n",
       "    </tr>\n",
       "    <tr>\n",
       "      <th>1</th>\n",
       "      <td>Sat Feb 20 03:19:59 +0000 2021</td>\n",
       "      <td>1362965193509265417</td>\n",
       "      <td>@Clon_43 @norabar Nora estaba indignada porque...</td>\n",
       "      <td>1362962469749153792</td>\n",
       "      <td>2737379453</td>\n",
       "      <td>32718111</td>\n",
       "      <td>[]</td>\n",
       "      <td>NaN</td>\n",
       "    </tr>\n",
       "    <tr>\n",
       "      <th>2</th>\n",
       "      <td>Mon Feb 22 23:55:08 +0000 2021</td>\n",
       "      <td>1364000806740111363</td>\n",
       "      <td>Bueno, Alberto dijo Salud o Economía. La salud...</td>\n",
       "      <td>NaN</td>\n",
       "      <td>NaN</td>\n",
       "      <td>252168075</td>\n",
       "      <td>[1238117630696972289, 37232479, 12792246571247...</td>\n",
       "      <td>NaN</td>\n",
       "    </tr>\n",
       "    <tr>\n",
       "      <th>3</th>\n",
       "      <td>Tue Feb 23 00:09:14 +0000 2021</td>\n",
       "      <td>1364004354374696963</td>\n",
       "      <td>@spitta1969 Tuit del mes Spitta</td>\n",
       "      <td>1364000806740111363</td>\n",
       "      <td>252168075</td>\n",
       "      <td>1156346340802224128</td>\n",
       "      <td>[]</td>\n",
       "      <td>NaN</td>\n",
       "    </tr>\n",
       "    <tr>\n",
       "      <th>4</th>\n",
       "      <td>Tue Feb 23 00:00:17 +0000 2021</td>\n",
       "      <td>1364002100364128260</td>\n",
       "      <td>@spitta1969 Estas onfire</td>\n",
       "      <td>1364000806740111363</td>\n",
       "      <td>252168075</td>\n",
       "      <td>153663816</td>\n",
       "      <td>[]</td>\n",
       "      <td>NaN</td>\n",
       "    </tr>\n",
       "  </tbody>\n",
       "</table>\n",
       "</div>"
      ],
      "text/plain": [
       "                       created_at               id_str  \\\n",
       "0  Sat Feb 20 03:09:10 +0000 2021  1362962469749153792   \n",
       "1  Sat Feb 20 03:19:59 +0000 2021  1362965193509265417   \n",
       "2  Mon Feb 22 23:55:08 +0000 2021  1364000806740111363   \n",
       "3  Tue Feb 23 00:09:14 +0000 2021  1364004354374696963   \n",
       "4  Tue Feb 23 00:00:17 +0000 2021  1364002100364128260   \n",
       "\n",
       "                                           full_text in_reply_to_status_id  \\\n",
       "0  Seguimos esperando el comunicado de @norabar r...                   NaN   \n",
       "1  @Clon_43 @norabar Nora estaba indignada porque...   1362962469749153792   \n",
       "2  Bueno, Alberto dijo Salud o Economía. La salud...                   NaN   \n",
       "3                    @spitta1969 Tuit del mes Spitta   1364000806740111363   \n",
       "4                           @spitta1969 Estas onfire   1364000806740111363   \n",
       "\n",
       "  in_reply_to_user_id              user.id  \\\n",
       "0                 NaN           2737379453   \n",
       "1          2737379453             32718111   \n",
       "2                 NaN            252168075   \n",
       "3           252168075  1156346340802224128   \n",
       "4           252168075            153663816   \n",
       "\n",
       "                                     user_retweeters sentiment  \n",
       "0  [2258074658, 159909978, 105301854, 290671142, ...       NaN  \n",
       "1                                                 []       NaN  \n",
       "2  [1238117630696972289, 37232479, 12792246571247...       NaN  \n",
       "3                                                 []       NaN  \n",
       "4                                                 []       NaN  "
      ]
     },
     "execution_count": 3,
     "metadata": {},
     "output_type": "execute_result"
    }
   ],
   "source": [
    "dtypes = {\n",
    "    'id_str': str,\n",
    "    'full_text': str,\n",
    "    'in_reply_to_status_id': str,\n",
    "    'in_reply_to_user_id': str,\n",
    "    'user.id': str\n",
    "}\n",
    "\n",
    "df_colab = pd.read_csv('embeding_twitter', dtype=dtypes).dropna(subset=['user_retweeters'])\n",
    "df_colab['user_retweeters'] = df_colab['user_retweeters'].apply(lambda x: [str(elem) for elem in eval(x)])\n",
    "print(df_colab.shape)\n",
    "df_colab.head()"
   ]
  },
  {
   "cell_type": "code",
   "execution_count": null,
   "id": "dd6b0a8f-eaca-489b-a969-70037e482ffe",
   "metadata": {},
   "outputs": [],
   "source": []
  },
  {
   "cell_type": "code",
   "execution_count": 122,
   "id": "sj1xjxcvfRfs",
   "metadata": {
    "id": "sj1xjxcvfRfs"
   },
   "outputs": [
    {
     "ename": "ModuleNotFoundError",
     "evalue": "No module named 'torch_sparse'",
     "output_type": "error",
     "traceback": [
      "\u001b[1;31m---------------------------------------------------------------------------\u001b[0m",
      "\u001b[1;31mModuleNotFoundError\u001b[0m                       Traceback (most recent call last)",
      "\u001b[1;32m~\\AppData\\Local\\Temp/ipykernel_12784/4218910038.py\u001b[0m in \u001b[0;36m<module>\u001b[1;34m\u001b[0m\n\u001b[0;32m      1\u001b[0m \u001b[1;32mimport\u001b[0m \u001b[0mtorch\u001b[0m\u001b[1;33m\u001b[0m\u001b[1;33m\u001b[0m\u001b[0m\n\u001b[1;32m----> 2\u001b[1;33m \u001b[1;32mimport\u001b[0m \u001b[0mtorch_geometric\u001b[0m\u001b[1;33m\u001b[0m\u001b[1;33m\u001b[0m\u001b[0m\n\u001b[0m",
      "\u001b[1;32mC:\\JupyterLab\\resources\\jlab_server\\lib\\site-packages\\torch_geometric\\__init__.py\u001b[0m in \u001b[0;36m<module>\u001b[1;34m\u001b[0m\n\u001b[0;32m      5\u001b[0m \u001b[1;32mfrom\u001b[0m \u001b[1;33m.\u001b[0m\u001b[0mdebug\u001b[0m \u001b[1;32mimport\u001b[0m \u001b[0mis_debug_enabled\u001b[0m\u001b[1;33m,\u001b[0m \u001b[0mdebug\u001b[0m\u001b[1;33m,\u001b[0m \u001b[0mset_debug\u001b[0m\u001b[1;33m\u001b[0m\u001b[1;33m\u001b[0m\u001b[0m\n\u001b[0;32m      6\u001b[0m \u001b[1;33m\u001b[0m\u001b[0m\n\u001b[1;32m----> 7\u001b[1;33m \u001b[1;32mimport\u001b[0m \u001b[0mtorch_geometric\u001b[0m\u001b[1;33m.\u001b[0m\u001b[0mdata\u001b[0m\u001b[1;33m\u001b[0m\u001b[1;33m\u001b[0m\u001b[0m\n\u001b[0m\u001b[0;32m      8\u001b[0m \u001b[1;32mimport\u001b[0m \u001b[0mtorch_geometric\u001b[0m\u001b[1;33m.\u001b[0m\u001b[0mloader\u001b[0m\u001b[1;33m\u001b[0m\u001b[1;33m\u001b[0m\u001b[0m\n\u001b[0;32m      9\u001b[0m \u001b[1;32mimport\u001b[0m \u001b[0mtorch_geometric\u001b[0m\u001b[1;33m.\u001b[0m\u001b[0mtransforms\u001b[0m\u001b[1;33m\u001b[0m\u001b[1;33m\u001b[0m\u001b[0m\n",
      "\u001b[1;32mC:\\JupyterLab\\resources\\jlab_server\\lib\\site-packages\\torch_geometric\\data\\__init__.py\u001b[0m in \u001b[0;36m<module>\u001b[1;34m\u001b[0m\n\u001b[1;32m----> 1\u001b[1;33m \u001b[1;32mfrom\u001b[0m \u001b[1;33m.\u001b[0m\u001b[0mdata\u001b[0m \u001b[1;32mimport\u001b[0m \u001b[0mData\u001b[0m\u001b[1;33m\u001b[0m\u001b[1;33m\u001b[0m\u001b[0m\n\u001b[0m\u001b[0;32m      2\u001b[0m \u001b[1;32mfrom\u001b[0m \u001b[1;33m.\u001b[0m\u001b[0mhetero_data\u001b[0m \u001b[1;32mimport\u001b[0m \u001b[0mHeteroData\u001b[0m\u001b[1;33m\u001b[0m\u001b[1;33m\u001b[0m\u001b[0m\n\u001b[0;32m      3\u001b[0m \u001b[1;32mfrom\u001b[0m \u001b[1;33m.\u001b[0m\u001b[0mtemporal\u001b[0m \u001b[1;32mimport\u001b[0m \u001b[0mTemporalData\u001b[0m\u001b[1;33m\u001b[0m\u001b[1;33m\u001b[0m\u001b[0m\n\u001b[0;32m      4\u001b[0m \u001b[1;32mfrom\u001b[0m \u001b[1;33m.\u001b[0m\u001b[0mbatch\u001b[0m \u001b[1;32mimport\u001b[0m \u001b[0mBatch\u001b[0m\u001b[1;33m\u001b[0m\u001b[1;33m\u001b[0m\u001b[0m\n\u001b[0;32m      5\u001b[0m \u001b[1;32mfrom\u001b[0m \u001b[1;33m.\u001b[0m\u001b[0mdataset\u001b[0m \u001b[1;32mimport\u001b[0m \u001b[0mDataset\u001b[0m\u001b[1;33m\u001b[0m\u001b[1;33m\u001b[0m\u001b[0m\n",
      "\u001b[1;32mC:\\JupyterLab\\resources\\jlab_server\\lib\\site-packages\\torch_geometric\\data\\data.py\u001b[0m in \u001b[0;36m<module>\u001b[1;34m\u001b[0m\n\u001b[0;32m      1\u001b[0m from typing import (Optional, Dict, Any, Union, List, Iterable, Tuple,\n\u001b[0;32m      2\u001b[0m                     NamedTuple, Callable)\n\u001b[1;32m----> 3\u001b[1;33m \u001b[1;32mfrom\u001b[0m \u001b[0mtorch_geometric\u001b[0m\u001b[1;33m.\u001b[0m\u001b[0mtyping\u001b[0m \u001b[1;32mimport\u001b[0m \u001b[0mOptTensor\u001b[0m\u001b[1;33m,\u001b[0m \u001b[0mNodeType\u001b[0m\u001b[1;33m,\u001b[0m \u001b[0mEdgeType\u001b[0m\u001b[1;33m\u001b[0m\u001b[1;33m\u001b[0m\u001b[0m\n\u001b[0m\u001b[0;32m      4\u001b[0m \u001b[1;32mfrom\u001b[0m \u001b[0mtorch_geometric\u001b[0m\u001b[1;33m.\u001b[0m\u001b[0mdeprecation\u001b[0m \u001b[1;32mimport\u001b[0m \u001b[0mdeprecated\u001b[0m\u001b[1;33m\u001b[0m\u001b[1;33m\u001b[0m\u001b[0m\n\u001b[0;32m      5\u001b[0m \u001b[1;33m\u001b[0m\u001b[0m\n",
      "\u001b[1;32mC:\\JupyterLab\\resources\\jlab_server\\lib\\site-packages\\torch_geometric\\typing.py\u001b[0m in \u001b[0;36m<module>\u001b[1;34m\u001b[0m\n\u001b[0;32m      2\u001b[0m \u001b[1;33m\u001b[0m\u001b[0m\n\u001b[0;32m      3\u001b[0m \u001b[1;32mfrom\u001b[0m \u001b[0mtorch\u001b[0m \u001b[1;32mimport\u001b[0m \u001b[0mTensor\u001b[0m\u001b[1;33m\u001b[0m\u001b[1;33m\u001b[0m\u001b[0m\n\u001b[1;32m----> 4\u001b[1;33m \u001b[1;32mfrom\u001b[0m \u001b[0mtorch_sparse\u001b[0m \u001b[1;32mimport\u001b[0m \u001b[0mSparseTensor\u001b[0m\u001b[1;33m\u001b[0m\u001b[1;33m\u001b[0m\u001b[0m\n\u001b[0m\u001b[0;32m      5\u001b[0m \u001b[1;33m\u001b[0m\u001b[0m\n\u001b[0;32m      6\u001b[0m \u001b[1;31m# Types for accessing data ####################################################\u001b[0m\u001b[1;33m\u001b[0m\u001b[1;33m\u001b[0m\u001b[1;33m\u001b[0m\u001b[0m\n",
      "\u001b[1;31mModuleNotFoundError\u001b[0m: No module named 'torch_sparse'"
     ]
    }
   ],
   "source": [
    "import torch \n",
    "import torch_geometric"
   ]
  },
  {
   "cell_type": "code",
   "execution_count": 120,
   "id": "qkrlO0I9gSIm",
   "metadata": {
    "id": "qkrlO0I9gSIm"
   },
   "outputs": [
    {
     "name": "stdout",
     "output_type": "stream",
     "text": [
      "Using cpu device\n"
     ]
    }
   ],
   "source": [
    "## Elegimos si usar CPU o GPU para los cálculos \n",
    "device = \"cuda\" if torch.cuda.is_available() else \"cpu\" #le decimos que dispositivo usamos\n",
    "print(\"Using {} device\".format(device))"
   ]
  },
  {
   "cell_type": "code",
   "execution_count": null,
   "id": "JEdRWB5OgVit",
   "metadata": {
    "id": "JEdRWB5OgVit"
   },
   "outputs": [],
   "source": [
    "import numpy as np\n",
    "import networkx as nx\n",
    "\n",
    "from torch_geometric.nn import Node2Vec\n",
    "\n",
    "from sklearn.manifold import TSNE\n",
    "from sklearn.decomposition import PCA\n",
    "\n",
    "import warnings\n",
    "warnings.simplefilter(action='ignore', category=FutureWarning)\n",
    "\n",
    "import matplotlib.pyplot as plt\n",
    "import seaborn as sns\n",
    "sns.set()\n",
    "sns.set_context('talk')"
   ]
  },
  {
   "cell_type": "code",
   "execution_count": null,
   "id": "rU1PgZC1ge_O",
   "metadata": {
    "id": "rU1PgZC1ge_O"
   },
   "outputs": [],
   "source": [
    "#CARGAMOS DF\n",
    "g = nx.karate_club_graph()\n",
    "print(nx.info(g))"
   ]
  },
  {
   "cell_type": "code",
   "execution_count": null,
   "id": "OrL98UtxgmlQ",
   "metadata": {
    "id": "OrL98UtxgmlQ"
   },
   "outputs": [],
   "source": [
    "n = g.number_of_nodes()\n",
    "nodes = [v for v in g.nodes()]\n",
    "membership = np.array([g.nodes[v]['user.id'] for v in g])"
   ]
  },
  {
   "cell_type": "code",
   "execution_count": null,
   "id": "G3NkvzwEgq4t",
   "metadata": {
    "id": "G3NkvzwEgq4t"
   },
   "outputs": [],
   "source": [
    "#generamos matriz esparsa\n",
    "adj = nx.to_scipy_sparse_matrix(g).tocoo() #guarda las deribadas\n",
    "row = torch.from_numpy(adj.row.astype(np.int64)).to(torch.long)\n",
    "col = torch.from_numpy(adj.col.astype(np.int64)).to(torch.long)\n",
    "edge_index = torch.stack([row, col], dim=0)\n",
    "edge_index #son dos matrices "
   ]
  },
  {
   "cell_type": "code",
   "execution_count": null,
   "id": "srFOTyfehF18",
   "metadata": {
    "id": "srFOTyfehF18"
   },
   "outputs": [],
   "source": [
    "## Definimos nuestro modelo\n",
    "model = Node2Vec( #le damos la matriz de adyacencia\n",
    "    edge_index, embedding_dim=100, walk_length=10, \n",
    "    context_size=4, num_negative_samples=5 #cantidad de sampleo negativo\n",
    ").to(device) #arquitectura y funcion de costo \n",
    "\n",
    "## El loader es un wrapper que nos permite trabajar por lotes, \n",
    "## para utilizar descenso por el gradiente estocástico y\n",
    "## sus variantes\n",
    "loader = model.loader(batch_size=128, shuffle=True) #estimamos el gradiente con este lote de datos\n",
    "\n",
    "## Optimizador\n",
    "optimizer = torch.optim.Adam(list(model.parameters()), lr=0.01) "
   ]
  },
  {
   "cell_type": "code",
   "execution_count": null,
   "id": "qhB-j66chJlM",
   "metadata": {
    "id": "qhB-j66chJlM"
   },
   "outputs": [],
   "source": [
    "#definimos funcion de entrenamiento\n",
    "def train():\n",
    "    ## Ponemos nuestro modelo en modo entrenamiento\n",
    "    model.train()\n",
    "\n",
    "    total_loss = 0\n",
    "    for pos_rw, neg_rw in loader: #iteramos \n",
    "\n",
    "        ## Reseteamos los gradientes en cada iteracion partimos de 0\n",
    "        optimizer.zero_grad()\n",
    "\n",
    "        ## Calculamos el error (la función de costo) del lote\n",
    "        ## en función de los samples positivos y negativos\n",
    "        loss = model.loss(pos_rw.to(device), neg_rw.to(device))\n",
    "\n",
    "        ## Hacemos backpropagation\n",
    "        loss.backward()\n",
    "\n",
    "        ## Avanzamos un paso\n",
    "        optimizer.step()\n",
    "\n",
    "        ## Actualizamos la función de costo total\n",
    "        total_loss += loss.item()\n",
    "\n",
    "    return total_loss / len(loader)"
   ]
  },
  {
   "cell_type": "code",
   "execution_count": null,
   "id": "HOTQTDi7hOcM",
   "metadata": {
    "id": "HOTQTDi7hOcM"
   },
   "outputs": [],
   "source": [
    "#entrenamos modelo\n",
    "epochs = 100\n",
    "for epoch in range(epochs): #calculamos el costo\n",
    "    loss = train() \n",
    "    if epoch % 5 == 0:\n",
    "        print(f'Epoch: {epoch:3} - Loss: {loss:.3f}')"
   ]
  },
  {
   "cell_type": "code",
   "execution_count": null,
   "id": "mVB67J-ghTfI",
   "metadata": {
    "id": "mVB67J-ghTfI"
   },
   "outputs": [],
   "source": [
    "def get_embedding(): #\n",
    "    model.eval() #pone el modelo en modo evalucacion\n",
    "    with torch.no_grad(): #no calcula ningun gradiente lo quiero como estan ahora\n",
    "        nodes = torch.arange(g.number_of_nodes(), device=device)  #evaluo el modelo en todos lo nodos\n",
    "        embedding = model(nodes).detach().numpy()\n",
    "    return embedding\n",
    "\n",
    "embedding = get_embedding()\n",
    "embedding.shape"
   ]
  },
  {
   "cell_type": "code",
   "execution_count": null,
   "id": "OvQ43yfjhW4K",
   "metadata": {
    "id": "OvQ43yfjhW4K"
   },
   "outputs": [],
   "source": [
    "#reducimos dimencionalidad\n",
    "pca = PCA(n_components=2, random_state=22).fit_transform(embedding)\n",
    "tsne = TSNE(n_components=2, learning_rate='auto', init='pca', random_state=22).fit_transform(embedding)"
   ]
  },
  {
   "cell_type": "code",
   "execution_count": null,
   "id": "GbTJPKBihd5c",
   "metadata": {
    "id": "GbTJPKBihd5c"
   },
   "outputs": [],
   "source": [
    "#graficamos\n",
    "def add_labels(g, pos, ax):\n",
    "    labels = [v for v in g.nodes()]\n",
    "    for i in range(g.number_of_nodes()):\n",
    "        x, y = pos[i]\n",
    "        label = labels[i]\n",
    "        ax.text(x, y, label)\n",
    "\n",
    "color = ['C0' if elem == 'user.id' else 'C1' for elem in membership]  #ver el nombre\n",
    "ncols = 2\n",
    "fig, axes = plt.subplots(figsize=(8*ncols, 8), ncols=2)\n",
    "ax = axes[0]\n",
    "ax.set_xlabel(r'$x_1$')\n",
    "ax.set_ylabel(r'$x_2$')\n",
    "ax.set_title('PCA')\n",
    "ax.scatter(pca[:,0], pca[:,1], c=color)\n",
    "add_labels(g, pca, ax)\n",
    "ax = axes[1]\n",
    "ax.set_xlabel(r'$x_1$')\n",
    "ax.set_ylabel(r'$x_2$')\n",
    "ax.set_title('t-SNE')\n",
    "ax.scatter(tsne[:,0], tsne[:,1], c=color)\n",
    "add_labels(g, tsne, ax)\n",
    "plt.tight_layout()\n",
    "plt.show()"
   ]
  },
  {
   "cell_type": "markdown",
   "id": "rp_qGdisfTND",
   "metadata": {
    "id": "rp_qGdisfTND"
   },
   "source": [
    "### **Opcional: 6. Redes neuronales de grafos**\n",
    "\n",
    "El archivo word_vectors.csv contiene un embedding de 300 dimensiones para cada tweet, otenido utilizando un modelo preentrenado de FastText. Construir una matriz de features para los nodos tomando, para cada usuario, el promedio de los vectores correspondientes a los tweets que escribió. Utilizando estos features, y tomando como ejemplos etiquetados los usuarios de \"etiquetas.csv\" entrenar una red neuronal de grafos para realizar una clasificación binaria sobre el resto de los nodos. Pueden utilizar como base el siguiente modelo:# Práctico 1"
   ]
  },
  {
   "cell_type": "code",
   "execution_count": null,
   "id": "qIJ7NmLefWu6",
   "metadata": {
    "id": "qIJ7NmLefWu6"
   },
   "outputs": [],
   "source": []
  }
 ],
 "metadata": {
  "colab": {
   "name": "Practico1.ipynb",
   "provenance": []
  },
  "kernelspec": {
   "display_name": "Python 3 (ipykernel)",
   "language": "python",
   "name": "python3"
  },
  "language_info": {
   "codemirror_mode": {
    "name": "ipython",
    "version": 3
   },
   "file_extension": ".py",
   "mimetype": "text/x-python",
   "name": "python",
   "nbconvert_exporter": "python",
   "pygments_lexer": "ipython3",
   "version": "3.8.12"
  }
 },
 "nbformat": 4,
 "nbformat_minor": 5
}
